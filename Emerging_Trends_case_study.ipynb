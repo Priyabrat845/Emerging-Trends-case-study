{
  "nbformat": 4,
  "nbformat_minor": 0,
  "metadata": {
    "colab": {
      "name": " Emerging Trends case study.ipynb",
      "provenance": [],
      "collapsed_sections": [],
      "mount_file_id": "1ZBaD59fNjWe_lb9F6S9xYoQmYCtULRgB",
      "authorship_tag": "ABX9TyPvNQvOVoRXeBTtDBraopj1",
      "include_colab_link": true
    },
    "kernelspec": {
      "name": "python3",
      "display_name": "Python 3"
    },
    "language_info": {
      "name": "python"
    }
  },
  "cells": [
    {
      "cell_type": "markdown",
      "metadata": {
        "id": "view-in-github",
        "colab_type": "text"
      },
      "source": [
        "<a href=\"https://colab.research.google.com/github/Priyabrat845/Emerging-Trends-case-study/blob/main/Emerging_Trends_case_study.ipynb\" target=\"_parent\"><img src=\"https://colab.research.google.com/assets/colab-badge.svg\" alt=\"Open In Colab\"/></a>"
      ]
    },
    {
      "cell_type": "markdown",
      "source": [
        "# **Emerging F&B Trends case study**\n",
        "\n",
        "---\n",
        "\n"
      ],
      "metadata": {
        "id": "czTL-yGy_XkQ"
      }
    },
    {
      "cell_type": "code",
      "execution_count": null,
      "metadata": {
        "id": "evZzFaG0A2X7"
      },
      "outputs": [],
      "source": [
        "#Importing libraries. \n",
        "import pandas as pd "
      ]
    },
    {
      "cell_type": "code",
      "source": [
        "# Importing dataset.\n",
        "Products=pd.read_excel('/content/drive/MyDrive/Almabetter/Product Launch Dataset.xlsm')"
      ],
      "metadata": {
        "id": "ClALcMGnA6F4"
      },
      "execution_count": null,
      "outputs": []
    },
    {
      "cell_type": "code",
      "source": [
        "Products.head()"
      ],
      "metadata": {
        "id": "ykmtQnn4A6Ir",
        "colab": {
          "base_uri": "https://localhost:8080/",
          "height": 206
        },
        "outputId": "00b2481e-7efa-48f6-c7e0-ae7f1187a461"
      },
      "execution_count": null,
      "outputs": [
        {
          "output_type": "execute_result",
          "data": {
            "text/html": [
              "\n",
              "  <div id=\"df-28d17670-168b-4077-8b99-9daaf6664b70\">\n",
              "    <div class=\"colab-df-container\">\n",
              "      <div>\n",
              "<style scoped>\n",
              "    .dataframe tbody tr th:only-of-type {\n",
              "        vertical-align: middle;\n",
              "    }\n",
              "\n",
              "    .dataframe tbody tr th {\n",
              "        vertical-align: top;\n",
              "    }\n",
              "\n",
              "    .dataframe thead th {\n",
              "        text-align: right;\n",
              "    }\n",
              "</style>\n",
              "<table border=\"1\" class=\"dataframe\">\n",
              "  <thead>\n",
              "    <tr style=\"text-align: right;\">\n",
              "      <th></th>\n",
              "      <th>Product id</th>\n",
              "      <th>Flavor</th>\n",
              "      <th>Market Subcategory</th>\n",
              "      <th>Launch Date</th>\n",
              "      <th>Country</th>\n",
              "      <th>Region</th>\n",
              "      <th>Positioning</th>\n",
              "    </tr>\n",
              "  </thead>\n",
              "  <tbody>\n",
              "    <tr>\n",
              "      <th>0</th>\n",
              "      <td>1</td>\n",
              "      <td>Herbs, not specified; Fruit, not specified</td>\n",
              "      <td>Other Soft Drinks</td>\n",
              "      <td>2001-01-01</td>\n",
              "      <td>WE1</td>\n",
              "      <td>West Europe</td>\n",
              "      <td>Low Calorie, Natural</td>\n",
              "    </tr>\n",
              "    <tr>\n",
              "      <th>1</th>\n",
              "      <td>2</td>\n",
              "      <td>Fruit, not specified</td>\n",
              "      <td>Carbonates</td>\n",
              "      <td>2001-01-01</td>\n",
              "      <td>WE2</td>\n",
              "      <td>West Europe</td>\n",
              "      <td>Convenience - Consumption</td>\n",
              "    </tr>\n",
              "    <tr>\n",
              "      <th>2</th>\n",
              "      <td>3</td>\n",
              "      <td>Lemon; Honey; Ginger</td>\n",
              "      <td>Juice &amp; Juice Drinks</td>\n",
              "      <td>2001-01-01</td>\n",
              "      <td>WE2</td>\n",
              "      <td>West Europe</td>\n",
              "      <td>100% Not from Concentrate, Convenience - Consu...</td>\n",
              "    </tr>\n",
              "    <tr>\n",
              "      <th>3</th>\n",
              "      <td>4</td>\n",
              "      <td>Mango; Passion Fruit</td>\n",
              "      <td>Juice &amp; Juice Drinks</td>\n",
              "      <td>2001-01-01</td>\n",
              "      <td>WE2</td>\n",
              "      <td>West Europe</td>\n",
              "      <td>100% Not from Concentrate, Convenience - Consu...</td>\n",
              "    </tr>\n",
              "    <tr>\n",
              "      <th>4</th>\n",
              "      <td>5</td>\n",
              "      <td>Mango</td>\n",
              "      <td>Juice &amp; Juice Drinks</td>\n",
              "      <td>2001-01-01</td>\n",
              "      <td>WE2</td>\n",
              "      <td>West Europe</td>\n",
              "      <td>100% Not from Concentrate, Convenience - Consu...</td>\n",
              "    </tr>\n",
              "  </tbody>\n",
              "</table>\n",
              "</div>\n",
              "      <button class=\"colab-df-convert\" onclick=\"convertToInteractive('df-28d17670-168b-4077-8b99-9daaf6664b70')\"\n",
              "              title=\"Convert this dataframe to an interactive table.\"\n",
              "              style=\"display:none;\">\n",
              "        \n",
              "  <svg xmlns=\"http://www.w3.org/2000/svg\" height=\"24px\"viewBox=\"0 0 24 24\"\n",
              "       width=\"24px\">\n",
              "    <path d=\"M0 0h24v24H0V0z\" fill=\"none\"/>\n",
              "    <path d=\"M18.56 5.44l.94 2.06.94-2.06 2.06-.94-2.06-.94-.94-2.06-.94 2.06-2.06.94zm-11 1L8.5 8.5l.94-2.06 2.06-.94-2.06-.94L8.5 2.5l-.94 2.06-2.06.94zm10 10l.94 2.06.94-2.06 2.06-.94-2.06-.94-.94-2.06-.94 2.06-2.06.94z\"/><path d=\"M17.41 7.96l-1.37-1.37c-.4-.4-.92-.59-1.43-.59-.52 0-1.04.2-1.43.59L10.3 9.45l-7.72 7.72c-.78.78-.78 2.05 0 2.83L4 21.41c.39.39.9.59 1.41.59.51 0 1.02-.2 1.41-.59l7.78-7.78 2.81-2.81c.8-.78.8-2.07 0-2.86zM5.41 20L4 18.59l7.72-7.72 1.47 1.35L5.41 20z\"/>\n",
              "  </svg>\n",
              "      </button>\n",
              "      \n",
              "  <style>\n",
              "    .colab-df-container {\n",
              "      display:flex;\n",
              "      flex-wrap:wrap;\n",
              "      gap: 12px;\n",
              "    }\n",
              "\n",
              "    .colab-df-convert {\n",
              "      background-color: #E8F0FE;\n",
              "      border: none;\n",
              "      border-radius: 50%;\n",
              "      cursor: pointer;\n",
              "      display: none;\n",
              "      fill: #1967D2;\n",
              "      height: 32px;\n",
              "      padding: 0 0 0 0;\n",
              "      width: 32px;\n",
              "    }\n",
              "\n",
              "    .colab-df-convert:hover {\n",
              "      background-color: #E2EBFA;\n",
              "      box-shadow: 0px 1px 2px rgba(60, 64, 67, 0.3), 0px 1px 3px 1px rgba(60, 64, 67, 0.15);\n",
              "      fill: #174EA6;\n",
              "    }\n",
              "\n",
              "    [theme=dark] .colab-df-convert {\n",
              "      background-color: #3B4455;\n",
              "      fill: #D2E3FC;\n",
              "    }\n",
              "\n",
              "    [theme=dark] .colab-df-convert:hover {\n",
              "      background-color: #434B5C;\n",
              "      box-shadow: 0px 1px 3px 1px rgba(0, 0, 0, 0.15);\n",
              "      filter: drop-shadow(0px 1px 2px rgba(0, 0, 0, 0.3));\n",
              "      fill: #FFFFFF;\n",
              "    }\n",
              "  </style>\n",
              "\n",
              "      <script>\n",
              "        const buttonEl =\n",
              "          document.querySelector('#df-28d17670-168b-4077-8b99-9daaf6664b70 button.colab-df-convert');\n",
              "        buttonEl.style.display =\n",
              "          google.colab.kernel.accessAllowed ? 'block' : 'none';\n",
              "\n",
              "        async function convertToInteractive(key) {\n",
              "          const element = document.querySelector('#df-28d17670-168b-4077-8b99-9daaf6664b70');\n",
              "          const dataTable =\n",
              "            await google.colab.kernel.invokeFunction('convertToInteractive',\n",
              "                                                     [key], {});\n",
              "          if (!dataTable) return;\n",
              "\n",
              "          const docLinkHtml = 'Like what you see? Visit the ' +\n",
              "            '<a target=\"_blank\" href=https://colab.research.google.com/notebooks/data_table.ipynb>data table notebook</a>'\n",
              "            + ' to learn more about interactive tables.';\n",
              "          element.innerHTML = '';\n",
              "          dataTable['output_type'] = 'display_data';\n",
              "          await google.colab.output.renderOutput(dataTable, element);\n",
              "          const docLink = document.createElement('div');\n",
              "          docLink.innerHTML = docLinkHtml;\n",
              "          element.appendChild(docLink);\n",
              "        }\n",
              "      </script>\n",
              "    </div>\n",
              "  </div>\n",
              "  "
            ],
            "text/plain": [
              "   Product id  ...                                        Positioning\n",
              "0           1  ...                               Low Calorie, Natural\n",
              "1           2  ...                          Convenience - Consumption\n",
              "2           3  ...  100% Not from Concentrate, Convenience - Consu...\n",
              "3           4  ...  100% Not from Concentrate, Convenience - Consu...\n",
              "4           5  ...  100% Not from Concentrate, Convenience - Consu...\n",
              "\n",
              "[5 rows x 7 columns]"
            ]
          },
          "metadata": {},
          "execution_count": 3
        }
      ]
    },
    {
      "cell_type": "code",
      "source": [
        "Products.shape"
      ],
      "metadata": {
        "id": "MJtwcweHA6K9",
        "colab": {
          "base_uri": "https://localhost:8080/"
        },
        "outputId": "150ecb09-433b-4e42-d54b-55e8d05913dc"
      },
      "execution_count": null,
      "outputs": [
        {
          "output_type": "execute_result",
          "data": {
            "text/plain": [
              "(114689, 7)"
            ]
          },
          "metadata": {},
          "execution_count": 4
        }
      ]
    },
    {
      "cell_type": "code",
      "source": [
        "Products.dtypes"
      ],
      "metadata": {
        "colab": {
          "base_uri": "https://localhost:8080/"
        },
        "id": "3qeOJ5_fzUmA",
        "outputId": "9163dfd3-8493-4312-b33b-90c10d1a0427"
      },
      "execution_count": null,
      "outputs": [
        {
          "output_type": "execute_result",
          "data": {
            "text/plain": [
              "Product id                     int64\n",
              "Flavor                        object\n",
              "Market Subcategory            object\n",
              "Launch Date           datetime64[ns]\n",
              "Country                       object\n",
              "Region                        object\n",
              "Positioning                   object\n",
              "dtype: object"
            ]
          },
          "metadata": {},
          "execution_count": 5
        }
      ]
    },
    {
      "cell_type": "code",
      "source": [
        "Products.isnull().sum()"
      ],
      "metadata": {
        "colab": {
          "base_uri": "https://localhost:8080/"
        },
        "id": "lWlcW1zxrcFx",
        "outputId": "d97ecd09-e7bd-437e-f4bb-7ddb166d39d3"
      },
      "execution_count": null,
      "outputs": [
        {
          "output_type": "execute_result",
          "data": {
            "text/plain": [
              "Product id               0\n",
              "Flavor                1976\n",
              "Market Subcategory       0\n",
              "Launch Date              0\n",
              "Country                  0\n",
              "Region                   0\n",
              "Positioning           4312\n",
              "dtype: int64"
            ]
          },
          "metadata": {},
          "execution_count": 36
        }
      ]
    },
    {
      "cell_type": "code",
      "source": [
        "Products['Launch Date'].max()"
      ],
      "metadata": {
        "colab": {
          "base_uri": "https://localhost:8080/"
        },
        "id": "MepxuinJy5QZ",
        "outputId": "9ff4df57-b46b-4774-e691-e215fbb3b109"
      },
      "execution_count": null,
      "outputs": [
        {
          "output_type": "execute_result",
          "data": {
            "text/plain": [
              "Timestamp('2010-01-01 00:00:00')"
            ]
          },
          "metadata": {},
          "execution_count": 6
        }
      ]
    },
    {
      "cell_type": "code",
      "source": [
        "# Storing last 5 years data.\n",
        "Products1=Products[Products['Launch Date']>='2005-01-01']"
      ],
      "metadata": {
        "id": "RZ8Y6M8R0m28"
      },
      "execution_count": null,
      "outputs": []
    },
    {
      "cell_type": "code",
      "source": [
        "Products1.head(5)"
      ],
      "metadata": {
        "colab": {
          "base_uri": "https://localhost:8080/",
          "height": 206
        },
        "id": "4X5HrYqpUrLD",
        "outputId": "33b57565-6269-493d-c8d5-64eb6e8a32aa"
      },
      "execution_count": null,
      "outputs": [
        {
          "output_type": "execute_result",
          "data": {
            "text/html": [
              "\n",
              "  <div id=\"df-dee0b767-3280-462a-bd45-da99d8f3d5c3\">\n",
              "    <div class=\"colab-df-container\">\n",
              "      <div>\n",
              "<style scoped>\n",
              "    .dataframe tbody tr th:only-of-type {\n",
              "        vertical-align: middle;\n",
              "    }\n",
              "\n",
              "    .dataframe tbody tr th {\n",
              "        vertical-align: top;\n",
              "    }\n",
              "\n",
              "    .dataframe thead th {\n",
              "        text-align: right;\n",
              "    }\n",
              "</style>\n",
              "<table border=\"1\" class=\"dataframe\">\n",
              "  <thead>\n",
              "    <tr style=\"text-align: right;\">\n",
              "      <th></th>\n",
              "      <th>Product id</th>\n",
              "      <th>Flavor</th>\n",
              "      <th>Market Subcategory</th>\n",
              "      <th>Launch Date</th>\n",
              "      <th>Country</th>\n",
              "      <th>Region</th>\n",
              "      <th>Positioning</th>\n",
              "    </tr>\n",
              "  </thead>\n",
              "  <tbody>\n",
              "    <tr>\n",
              "      <th>13</th>\n",
              "      <td>14</td>\n",
              "      <td>Apple, red; Apricot</td>\n",
              "      <td>Juice &amp; Juice Drinks</td>\n",
              "      <td>2005-01-01</td>\n",
              "      <td>WE3</td>\n",
              "      <td>West Europe</td>\n",
              "      <td>Nectars (25-99% juice), Convenience - Easy-to-...</td>\n",
              "    </tr>\n",
              "    <tr>\n",
              "      <th>7593</th>\n",
              "      <td>7594</td>\n",
              "      <td>Apple, Red</td>\n",
              "      <td>Juice &amp; Juice Drinks</td>\n",
              "      <td>2005-01-01</td>\n",
              "      <td>ME4</td>\n",
              "      <td>Middle East</td>\n",
              "      <td>100% Reconstituted, Convenience - Consumption</td>\n",
              "    </tr>\n",
              "    <tr>\n",
              "      <th>7628</th>\n",
              "      <td>7629</td>\n",
              "      <td>Mango; Passion Fruit</td>\n",
              "      <td>Juice &amp; Juice Drinks</td>\n",
              "      <td>2005-01-01</td>\n",
              "      <td>ME4</td>\n",
              "      <td>Middle East</td>\n",
              "      <td>Juice Drinks (up to 25% juice)</td>\n",
              "    </tr>\n",
              "    <tr>\n",
              "      <th>7636</th>\n",
              "      <td>7637</td>\n",
              "      <td>Unflavored</td>\n",
              "      <td>Bottled Water - Unflavoured</td>\n",
              "      <td>2005-01-01</td>\n",
              "      <td>AF5</td>\n",
              "      <td>Africa</td>\n",
              "      <td>Natural</td>\n",
              "    </tr>\n",
              "    <tr>\n",
              "      <th>7637</th>\n",
              "      <td>7638</td>\n",
              "      <td>Unflavored</td>\n",
              "      <td>Bottled Water - Unflavoured</td>\n",
              "      <td>2005-01-01</td>\n",
              "      <td>WE2</td>\n",
              "      <td>West Europe</td>\n",
              "      <td>NaN</td>\n",
              "    </tr>\n",
              "  </tbody>\n",
              "</table>\n",
              "</div>\n",
              "      <button class=\"colab-df-convert\" onclick=\"convertToInteractive('df-dee0b767-3280-462a-bd45-da99d8f3d5c3')\"\n",
              "              title=\"Convert this dataframe to an interactive table.\"\n",
              "              style=\"display:none;\">\n",
              "        \n",
              "  <svg xmlns=\"http://www.w3.org/2000/svg\" height=\"24px\"viewBox=\"0 0 24 24\"\n",
              "       width=\"24px\">\n",
              "    <path d=\"M0 0h24v24H0V0z\" fill=\"none\"/>\n",
              "    <path d=\"M18.56 5.44l.94 2.06.94-2.06 2.06-.94-2.06-.94-.94-2.06-.94 2.06-2.06.94zm-11 1L8.5 8.5l.94-2.06 2.06-.94-2.06-.94L8.5 2.5l-.94 2.06-2.06.94zm10 10l.94 2.06.94-2.06 2.06-.94-2.06-.94-.94-2.06-.94 2.06-2.06.94z\"/><path d=\"M17.41 7.96l-1.37-1.37c-.4-.4-.92-.59-1.43-.59-.52 0-1.04.2-1.43.59L10.3 9.45l-7.72 7.72c-.78.78-.78 2.05 0 2.83L4 21.41c.39.39.9.59 1.41.59.51 0 1.02-.2 1.41-.59l7.78-7.78 2.81-2.81c.8-.78.8-2.07 0-2.86zM5.41 20L4 18.59l7.72-7.72 1.47 1.35L5.41 20z\"/>\n",
              "  </svg>\n",
              "      </button>\n",
              "      \n",
              "  <style>\n",
              "    .colab-df-container {\n",
              "      display:flex;\n",
              "      flex-wrap:wrap;\n",
              "      gap: 12px;\n",
              "    }\n",
              "\n",
              "    .colab-df-convert {\n",
              "      background-color: #E8F0FE;\n",
              "      border: none;\n",
              "      border-radius: 50%;\n",
              "      cursor: pointer;\n",
              "      display: none;\n",
              "      fill: #1967D2;\n",
              "      height: 32px;\n",
              "      padding: 0 0 0 0;\n",
              "      width: 32px;\n",
              "    }\n",
              "\n",
              "    .colab-df-convert:hover {\n",
              "      background-color: #E2EBFA;\n",
              "      box-shadow: 0px 1px 2px rgba(60, 64, 67, 0.3), 0px 1px 3px 1px rgba(60, 64, 67, 0.15);\n",
              "      fill: #174EA6;\n",
              "    }\n",
              "\n",
              "    [theme=dark] .colab-df-convert {\n",
              "      background-color: #3B4455;\n",
              "      fill: #D2E3FC;\n",
              "    }\n",
              "\n",
              "    [theme=dark] .colab-df-convert:hover {\n",
              "      background-color: #434B5C;\n",
              "      box-shadow: 0px 1px 3px 1px rgba(0, 0, 0, 0.15);\n",
              "      filter: drop-shadow(0px 1px 2px rgba(0, 0, 0, 0.3));\n",
              "      fill: #FFFFFF;\n",
              "    }\n",
              "  </style>\n",
              "\n",
              "      <script>\n",
              "        const buttonEl =\n",
              "          document.querySelector('#df-dee0b767-3280-462a-bd45-da99d8f3d5c3 button.colab-df-convert');\n",
              "        buttonEl.style.display =\n",
              "          google.colab.kernel.accessAllowed ? 'block' : 'none';\n",
              "\n",
              "        async function convertToInteractive(key) {\n",
              "          const element = document.querySelector('#df-dee0b767-3280-462a-bd45-da99d8f3d5c3');\n",
              "          const dataTable =\n",
              "            await google.colab.kernel.invokeFunction('convertToInteractive',\n",
              "                                                     [key], {});\n",
              "          if (!dataTable) return;\n",
              "\n",
              "          const docLinkHtml = 'Like what you see? Visit the ' +\n",
              "            '<a target=\"_blank\" href=https://colab.research.google.com/notebooks/data_table.ipynb>data table notebook</a>'\n",
              "            + ' to learn more about interactive tables.';\n",
              "          element.innerHTML = '';\n",
              "          dataTable['output_type'] = 'display_data';\n",
              "          await google.colab.output.renderOutput(dataTable, element);\n",
              "          const docLink = document.createElement('div');\n",
              "          docLink.innerHTML = docLinkHtml;\n",
              "          element.appendChild(docLink);\n",
              "        }\n",
              "      </script>\n",
              "    </div>\n",
              "  </div>\n",
              "  "
            ],
            "text/plain": [
              "      Product id  ...                                        Positioning\n",
              "13            14  ...  Nectars (25-99% juice), Convenience - Easy-to-...\n",
              "7593        7594  ...      100% Reconstituted, Convenience - Consumption\n",
              "7628        7629  ...                     Juice Drinks (up to 25% juice)\n",
              "7636        7637  ...                                            Natural\n",
              "7637        7638  ...                                                NaN\n",
              "\n",
              "[5 rows x 7 columns]"
            ]
          },
          "metadata": {},
          "execution_count": 8
        }
      ]
    },
    {
      "cell_type": "code",
      "source": [
        "Products1['Flavor'].unique()"
      ],
      "metadata": {
        "colab": {
          "base_uri": "https://localhost:8080/"
        },
        "id": "_ET6VnIyOA8j",
        "outputId": "56b39e4c-819a-4e72-e0bb-4a0f22c6f9dc"
      },
      "execution_count": null,
      "outputs": [
        {
          "output_type": "execute_result",
          "data": {
            "text/plain": [
              "array(['Apple, red; Apricot', 'Apple, Red', 'Mango; Passion Fruit', ...,\n",
              "       'Soda; Lemon-Lime', 'Sugar, Cane; Chocolate, Not Specified',\n",
              "       'Tea, Green; Unflavored'], dtype=object)"
            ]
          },
          "metadata": {},
          "execution_count": 9
        }
      ]
    },
    {
      "cell_type": "code",
      "source": [
        "Products1.shape"
      ],
      "metadata": {
        "colab": {
          "base_uri": "https://localhost:8080/"
        },
        "id": "MTqPiTSuUrNq",
        "outputId": "0ef8d253-3a27-4fa3-8577-5c0e124055ef"
      },
      "execution_count": null,
      "outputs": [
        {
          "output_type": "execute_result",
          "data": {
            "text/plain": [
              "(82594, 7)"
            ]
          },
          "metadata": {},
          "execution_count": 10
        }
      ]
    },
    {
      "cell_type": "code",
      "source": [
        "# Various falvors available in the last 5 years.\n",
        "Products1['Flavor'].value_counts()"
      ],
      "metadata": {
        "colab": {
          "base_uri": "https://localhost:8080/"
        },
        "id": "4uANqrMzYo9j",
        "outputId": "164d0862-2eb2-432b-caa5-4964e71ae373"
      },
      "execution_count": null,
      "outputs": [
        {
          "output_type": "execute_result",
          "data": {
            "text/plain": [
              "Unflavored                                                           6662\n",
              "Orange, not specified                                                2302\n",
              "Orange, Not specified                                                2268\n",
              "Lemon                                                                2052\n",
              "Cola                                                                 1884\n",
              "                                                                     ... \n",
              "Strawberry; Apple, red; Grape, white                                    1\n",
              "Coconut; Exotic Fruit, Not specified                                    1\n",
              "Cayenne; Lime; Ginger                                                   1\n",
              "Tea, not specified; Superfruit, pomegranate; Berry, not specified       1\n",
              "Tea, Green; Superfruit, Pomegranate; Cherry, Sour                       1\n",
              "Name: Flavor, Length: 13942, dtype: int64"
            ]
          },
          "metadata": {},
          "execution_count": 11
        }
      ]
    },
    {
      "cell_type": "code",
      "source": [
        "# Top 10 various available products. \n",
        "Products1['Flavor'].value_counts().nlargest(10)"
      ],
      "metadata": {
        "colab": {
          "base_uri": "https://localhost:8080/"
        },
        "id": "wC5C2NrpXniM",
        "outputId": "b1309f24-5de4-484b-82f3-4bc8e0a32e89"
      },
      "execution_count": null,
      "outputs": [
        {
          "output_type": "execute_result",
          "data": {
            "text/plain": [
              "Unflavored               6662\n",
              "Orange, not specified    2302\n",
              "Orange, Not specified    2268\n",
              "Lemon                    2052\n",
              "Cola                     1884\n",
              "Apple, Red               1856\n",
              "Mango                    1526\n",
              "Orange, Not Specified    1239\n",
              "Pineapple                1219\n",
              "Apple, red               1130\n",
              "Name: Flavor, dtype: int64"
            ]
          },
          "metadata": {},
          "execution_count": 12
        }
      ]
    },
    {
      "cell_type": "code",
      "source": [
        "Products1[Products1['Flavor']=='Orange, not specified']"
      ],
      "metadata": {
        "colab": {
          "base_uri": "https://localhost:8080/",
          "height": 424
        },
        "id": "CI0hFiqQXtpj",
        "outputId": "c012a839-2baf-41f6-8186-0e2506394d28"
      },
      "execution_count": null,
      "outputs": [
        {
          "output_type": "execute_result",
          "data": {
            "text/html": [
              "\n",
              "  <div id=\"df-867f3777-8c5c-466d-a58f-9b46ce264ce3\">\n",
              "    <div class=\"colab-df-container\">\n",
              "      <div>\n",
              "<style scoped>\n",
              "    .dataframe tbody tr th:only-of-type {\n",
              "        vertical-align: middle;\n",
              "    }\n",
              "\n",
              "    .dataframe tbody tr th {\n",
              "        vertical-align: top;\n",
              "    }\n",
              "\n",
              "    .dataframe thead th {\n",
              "        text-align: right;\n",
              "    }\n",
              "</style>\n",
              "<table border=\"1\" class=\"dataframe\">\n",
              "  <thead>\n",
              "    <tr style=\"text-align: right;\">\n",
              "      <th></th>\n",
              "      <th>Product id</th>\n",
              "      <th>Flavor</th>\n",
              "      <th>Market Subcategory</th>\n",
              "      <th>Launch Date</th>\n",
              "      <th>Country</th>\n",
              "      <th>Region</th>\n",
              "      <th>Positioning</th>\n",
              "    </tr>\n",
              "  </thead>\n",
              "  <tbody>\n",
              "    <tr>\n",
              "      <th>7799</th>\n",
              "      <td>7800</td>\n",
              "      <td>Orange, not specified</td>\n",
              "      <td>Juice &amp; Juice Drinks</td>\n",
              "      <td>2005-01-01</td>\n",
              "      <td>WE2</td>\n",
              "      <td>West Europe</td>\n",
              "      <td>Juice Drinks (up to 25% juice), Vegetarian, Co...</td>\n",
              "    </tr>\n",
              "    <tr>\n",
              "      <th>7949</th>\n",
              "      <td>7950</td>\n",
              "      <td>Orange, not specified</td>\n",
              "      <td>Juice &amp; Juice Drinks</td>\n",
              "      <td>2005-01-01</td>\n",
              "      <td>LA12</td>\n",
              "      <td>Latin America</td>\n",
              "      <td>100% Reconstituted, Kosher, Convenience - Cons...</td>\n",
              "    </tr>\n",
              "    <tr>\n",
              "      <th>8023</th>\n",
              "      <td>8024</td>\n",
              "      <td>Orange, not specified</td>\n",
              "      <td>Juice &amp; Juice Drinks</td>\n",
              "      <td>2005-01-01</td>\n",
              "      <td>WE12</td>\n",
              "      <td>West Europe</td>\n",
              "      <td>100% Reconstituted, No Added Sugar</td>\n",
              "    </tr>\n",
              "    <tr>\n",
              "      <th>8101</th>\n",
              "      <td>8102</td>\n",
              "      <td>Orange, not specified</td>\n",
              "      <td>Juice &amp; Juice Drinks</td>\n",
              "      <td>2005-01-01</td>\n",
              "      <td>WE12</td>\n",
              "      <td>West Europe</td>\n",
              "      <td>100% Reconstituted, No Additives/Preservatives</td>\n",
              "    </tr>\n",
              "    <tr>\n",
              "      <th>8102</th>\n",
              "      <td>8103</td>\n",
              "      <td>Orange, not specified</td>\n",
              "      <td>Juice &amp; Juice Drinks</td>\n",
              "      <td>2005-01-01</td>\n",
              "      <td>WE12</td>\n",
              "      <td>West Europe</td>\n",
              "      <td>100% Reconstituted, Convenience - Consumption,...</td>\n",
              "    </tr>\n",
              "    <tr>\n",
              "      <th>...</th>\n",
              "      <td>...</td>\n",
              "      <td>...</td>\n",
              "      <td>...</td>\n",
              "      <td>...</td>\n",
              "      <td>...</td>\n",
              "      <td>...</td>\n",
              "      <td>...</td>\n",
              "    </tr>\n",
              "    <tr>\n",
              "      <th>98382</th>\n",
              "      <td>98383</td>\n",
              "      <td>Orange, not specified</td>\n",
              "      <td>Other Soft Drinks</td>\n",
              "      <td>2008-01-01</td>\n",
              "      <td>A12</td>\n",
              "      <td>Asia</td>\n",
              "      <td>Low Calorie, Vegetarian, Children (5-12 years)</td>\n",
              "    </tr>\n",
              "    <tr>\n",
              "      <th>98402</th>\n",
              "      <td>98403</td>\n",
              "      <td>Orange, not specified</td>\n",
              "      <td>Juice &amp; Juice Drinks</td>\n",
              "      <td>2008-01-01</td>\n",
              "      <td>A12</td>\n",
              "      <td>Asia</td>\n",
              "      <td>Juice Drinks (up to 25% juice), Vegetarian</td>\n",
              "    </tr>\n",
              "    <tr>\n",
              "      <th>98422</th>\n",
              "      <td>98423</td>\n",
              "      <td>Orange, not specified</td>\n",
              "      <td>Bottled Water - Flavoured</td>\n",
              "      <td>2008-01-01</td>\n",
              "      <td>WE16</td>\n",
              "      <td>West Europe</td>\n",
              "      <td>No Additives/Preservatives, Added Calcium, Vit...</td>\n",
              "    </tr>\n",
              "    <tr>\n",
              "      <th>98438</th>\n",
              "      <td>98439</td>\n",
              "      <td>Orange, not specified</td>\n",
              "      <td>Carbonates</td>\n",
              "      <td>2007-01-01</td>\n",
              "      <td>NA1</td>\n",
              "      <td>North America</td>\n",
              "      <td>Traditional, Economy</td>\n",
              "    </tr>\n",
              "    <tr>\n",
              "      <th>98548</th>\n",
              "      <td>98549</td>\n",
              "      <td>Orange, not specified</td>\n",
              "      <td>Juice &amp; Juice Drinks</td>\n",
              "      <td>2008-01-01</td>\n",
              "      <td>A10</td>\n",
              "      <td>Asia</td>\n",
              "      <td>100% Reconstituted, Convenience - Packaging</td>\n",
              "    </tr>\n",
              "  </tbody>\n",
              "</table>\n",
              "<p>2302 rows × 7 columns</p>\n",
              "</div>\n",
              "      <button class=\"colab-df-convert\" onclick=\"convertToInteractive('df-867f3777-8c5c-466d-a58f-9b46ce264ce3')\"\n",
              "              title=\"Convert this dataframe to an interactive table.\"\n",
              "              style=\"display:none;\">\n",
              "        \n",
              "  <svg xmlns=\"http://www.w3.org/2000/svg\" height=\"24px\"viewBox=\"0 0 24 24\"\n",
              "       width=\"24px\">\n",
              "    <path d=\"M0 0h24v24H0V0z\" fill=\"none\"/>\n",
              "    <path d=\"M18.56 5.44l.94 2.06.94-2.06 2.06-.94-2.06-.94-.94-2.06-.94 2.06-2.06.94zm-11 1L8.5 8.5l.94-2.06 2.06-.94-2.06-.94L8.5 2.5l-.94 2.06-2.06.94zm10 10l.94 2.06.94-2.06 2.06-.94-2.06-.94-.94-2.06-.94 2.06-2.06.94z\"/><path d=\"M17.41 7.96l-1.37-1.37c-.4-.4-.92-.59-1.43-.59-.52 0-1.04.2-1.43.59L10.3 9.45l-7.72 7.72c-.78.78-.78 2.05 0 2.83L4 21.41c.39.39.9.59 1.41.59.51 0 1.02-.2 1.41-.59l7.78-7.78 2.81-2.81c.8-.78.8-2.07 0-2.86zM5.41 20L4 18.59l7.72-7.72 1.47 1.35L5.41 20z\"/>\n",
              "  </svg>\n",
              "      </button>\n",
              "      \n",
              "  <style>\n",
              "    .colab-df-container {\n",
              "      display:flex;\n",
              "      flex-wrap:wrap;\n",
              "      gap: 12px;\n",
              "    }\n",
              "\n",
              "    .colab-df-convert {\n",
              "      background-color: #E8F0FE;\n",
              "      border: none;\n",
              "      border-radius: 50%;\n",
              "      cursor: pointer;\n",
              "      display: none;\n",
              "      fill: #1967D2;\n",
              "      height: 32px;\n",
              "      padding: 0 0 0 0;\n",
              "      width: 32px;\n",
              "    }\n",
              "\n",
              "    .colab-df-convert:hover {\n",
              "      background-color: #E2EBFA;\n",
              "      box-shadow: 0px 1px 2px rgba(60, 64, 67, 0.3), 0px 1px 3px 1px rgba(60, 64, 67, 0.15);\n",
              "      fill: #174EA6;\n",
              "    }\n",
              "\n",
              "    [theme=dark] .colab-df-convert {\n",
              "      background-color: #3B4455;\n",
              "      fill: #D2E3FC;\n",
              "    }\n",
              "\n",
              "    [theme=dark] .colab-df-convert:hover {\n",
              "      background-color: #434B5C;\n",
              "      box-shadow: 0px 1px 3px 1px rgba(0, 0, 0, 0.15);\n",
              "      filter: drop-shadow(0px 1px 2px rgba(0, 0, 0, 0.3));\n",
              "      fill: #FFFFFF;\n",
              "    }\n",
              "  </style>\n",
              "\n",
              "      <script>\n",
              "        const buttonEl =\n",
              "          document.querySelector('#df-867f3777-8c5c-466d-a58f-9b46ce264ce3 button.colab-df-convert');\n",
              "        buttonEl.style.display =\n",
              "          google.colab.kernel.accessAllowed ? 'block' : 'none';\n",
              "\n",
              "        async function convertToInteractive(key) {\n",
              "          const element = document.querySelector('#df-867f3777-8c5c-466d-a58f-9b46ce264ce3');\n",
              "          const dataTable =\n",
              "            await google.colab.kernel.invokeFunction('convertToInteractive',\n",
              "                                                     [key], {});\n",
              "          if (!dataTable) return;\n",
              "\n",
              "          const docLinkHtml = 'Like what you see? Visit the ' +\n",
              "            '<a target=\"_blank\" href=https://colab.research.google.com/notebooks/data_table.ipynb>data table notebook</a>'\n",
              "            + ' to learn more about interactive tables.';\n",
              "          element.innerHTML = '';\n",
              "          dataTable['output_type'] = 'display_data';\n",
              "          await google.colab.output.renderOutput(dataTable, element);\n",
              "          const docLink = document.createElement('div');\n",
              "          docLink.innerHTML = docLinkHtml;\n",
              "          element.appendChild(docLink);\n",
              "        }\n",
              "      </script>\n",
              "    </div>\n",
              "  </div>\n",
              "  "
            ],
            "text/plain": [
              "       Product id  ...                                        Positioning\n",
              "7799         7800  ...  Juice Drinks (up to 25% juice), Vegetarian, Co...\n",
              "7949         7950  ...  100% Reconstituted, Kosher, Convenience - Cons...\n",
              "8023         8024  ...                 100% Reconstituted, No Added Sugar\n",
              "8101         8102  ...     100% Reconstituted, No Additives/Preservatives\n",
              "8102         8103  ...  100% Reconstituted, Convenience - Consumption,...\n",
              "...           ...  ...                                                ...\n",
              "98382       98383  ...     Low Calorie, Vegetarian, Children (5-12 years)\n",
              "98402       98403  ...         Juice Drinks (up to 25% juice), Vegetarian\n",
              "98422       98423  ...  No Additives/Preservatives, Added Calcium, Vit...\n",
              "98438       98439  ...                               Traditional, Economy\n",
              "98548       98549  ...        100% Reconstituted, Convenience - Packaging\n",
              "\n",
              "[2302 rows x 7 columns]"
            ]
          },
          "metadata": {},
          "execution_count": 13
        }
      ]
    },
    {
      "cell_type": "code",
      "source": [
        "Products1[Products1['Flavor']=='Orange, Not specified']"
      ],
      "metadata": {
        "colab": {
          "base_uri": "https://localhost:8080/",
          "height": 424
        },
        "id": "xgKsNpq9XuZS",
        "outputId": "53025a15-4e59-42a1-a5a1-d6e8aa1349ac"
      },
      "execution_count": null,
      "outputs": [
        {
          "output_type": "execute_result",
          "data": {
            "text/html": [
              "\n",
              "  <div id=\"df-8b7c15f3-00f6-4dd7-ab9b-b7cf8d2f5676\">\n",
              "    <div class=\"colab-df-container\">\n",
              "      <div>\n",
              "<style scoped>\n",
              "    .dataframe tbody tr th:only-of-type {\n",
              "        vertical-align: middle;\n",
              "    }\n",
              "\n",
              "    .dataframe tbody tr th {\n",
              "        vertical-align: top;\n",
              "    }\n",
              "\n",
              "    .dataframe thead th {\n",
              "        text-align: right;\n",
              "    }\n",
              "</style>\n",
              "<table border=\"1\" class=\"dataframe\">\n",
              "  <thead>\n",
              "    <tr style=\"text-align: right;\">\n",
              "      <th></th>\n",
              "      <th>Product id</th>\n",
              "      <th>Flavor</th>\n",
              "      <th>Market Subcategory</th>\n",
              "      <th>Launch Date</th>\n",
              "      <th>Country</th>\n",
              "      <th>Region</th>\n",
              "      <th>Positioning</th>\n",
              "    </tr>\n",
              "  </thead>\n",
              "  <tbody>\n",
              "    <tr>\n",
              "      <th>12296</th>\n",
              "      <td>12297</td>\n",
              "      <td>Orange, Not specified</td>\n",
              "      <td>Juice &amp; Juice Drinks</td>\n",
              "      <td>2006-01-01</td>\n",
              "      <td>WE1</td>\n",
              "      <td>West Europe</td>\n",
              "      <td>Juice Drinks (up to 25% juice), Convenience - ...</td>\n",
              "    </tr>\n",
              "    <tr>\n",
              "      <th>12596</th>\n",
              "      <td>12597</td>\n",
              "      <td>Orange, Not specified</td>\n",
              "      <td>Juice &amp; Juice Drinks</td>\n",
              "      <td>2006-01-01</td>\n",
              "      <td>WE1</td>\n",
              "      <td>West Europe</td>\n",
              "      <td>100% Reconstituted, No Additives/Preservatives...</td>\n",
              "    </tr>\n",
              "    <tr>\n",
              "      <th>13592</th>\n",
              "      <td>13593</td>\n",
              "      <td>Orange, Not specified</td>\n",
              "      <td>Juice &amp; Juice Drinks</td>\n",
              "      <td>2006-01-01</td>\n",
              "      <td>WE1</td>\n",
              "      <td>West Europe</td>\n",
              "      <td>Nectars (25-99% juice), Allergy, Gluten Free, ...</td>\n",
              "    </tr>\n",
              "    <tr>\n",
              "      <th>16774</th>\n",
              "      <td>16775</td>\n",
              "      <td>Orange, Not specified</td>\n",
              "      <td>Juice &amp; Juice Drinks</td>\n",
              "      <td>2006-01-01</td>\n",
              "      <td>WE1</td>\n",
              "      <td>West Europe</td>\n",
              "      <td>Juice Drinks (up to 25% juice), Convenience - ...</td>\n",
              "    </tr>\n",
              "    <tr>\n",
              "      <th>18261</th>\n",
              "      <td>18262</td>\n",
              "      <td>Orange, Not specified</td>\n",
              "      <td>Juice &amp; Juice Drinks</td>\n",
              "      <td>2007-01-01</td>\n",
              "      <td>WE1</td>\n",
              "      <td>West Europe</td>\n",
              "      <td>Juice Drinks (up to 25% juice)</td>\n",
              "    </tr>\n",
              "    <tr>\n",
              "      <th>...</th>\n",
              "      <td>...</td>\n",
              "      <td>...</td>\n",
              "      <td>...</td>\n",
              "      <td>...</td>\n",
              "      <td>...</td>\n",
              "      <td>...</td>\n",
              "      <td>...</td>\n",
              "    </tr>\n",
              "    <tr>\n",
              "      <th>111147</th>\n",
              "      <td>111148</td>\n",
              "      <td>Orange, Not specified</td>\n",
              "      <td>Bottled Water - Flavoured</td>\n",
              "      <td>2010-01-01</td>\n",
              "      <td>A10</td>\n",
              "      <td>Asia</td>\n",
              "      <td>Ethical - Packaging, Convenience - Consumption</td>\n",
              "    </tr>\n",
              "    <tr>\n",
              "      <th>111148</th>\n",
              "      <td>111149</td>\n",
              "      <td>Orange, Not specified</td>\n",
              "      <td>Juice &amp; Juice Drinks</td>\n",
              "      <td>2010-01-01</td>\n",
              "      <td>NA1</td>\n",
              "      <td>North America</td>\n",
              "      <td>100% Not from Concentrate</td>\n",
              "    </tr>\n",
              "    <tr>\n",
              "      <th>111189</th>\n",
              "      <td>111190</td>\n",
              "      <td>Orange, Not specified</td>\n",
              "      <td>Bottled Water - Flavoured</td>\n",
              "      <td>2010-01-01</td>\n",
              "      <td>NA1</td>\n",
              "      <td>North America</td>\n",
              "      <td>Allergy, Gluten Free, Low Sodium, Convenience ...</td>\n",
              "    </tr>\n",
              "    <tr>\n",
              "      <th>111196</th>\n",
              "      <td>111197</td>\n",
              "      <td>Orange, Not specified</td>\n",
              "      <td>Drink Concentrates &amp; Mixes</td>\n",
              "      <td>2010-01-01</td>\n",
              "      <td>A12</td>\n",
              "      <td>Asia</td>\n",
              "      <td>Vegetarian, Dry, Vitamin/Mineral Fortified, Br...</td>\n",
              "    </tr>\n",
              "    <tr>\n",
              "      <th>111211</th>\n",
              "      <td>111212</td>\n",
              "      <td>Orange, Not specified</td>\n",
              "      <td>Bottled Water - Flavoured</td>\n",
              "      <td>2010-01-01</td>\n",
              "      <td>A12</td>\n",
              "      <td>Asia</td>\n",
              "      <td>No Additives/Preservatives, Convenience - Cons...</td>\n",
              "    </tr>\n",
              "  </tbody>\n",
              "</table>\n",
              "<p>2268 rows × 7 columns</p>\n",
              "</div>\n",
              "      <button class=\"colab-df-convert\" onclick=\"convertToInteractive('df-8b7c15f3-00f6-4dd7-ab9b-b7cf8d2f5676')\"\n",
              "              title=\"Convert this dataframe to an interactive table.\"\n",
              "              style=\"display:none;\">\n",
              "        \n",
              "  <svg xmlns=\"http://www.w3.org/2000/svg\" height=\"24px\"viewBox=\"0 0 24 24\"\n",
              "       width=\"24px\">\n",
              "    <path d=\"M0 0h24v24H0V0z\" fill=\"none\"/>\n",
              "    <path d=\"M18.56 5.44l.94 2.06.94-2.06 2.06-.94-2.06-.94-.94-2.06-.94 2.06-2.06.94zm-11 1L8.5 8.5l.94-2.06 2.06-.94-2.06-.94L8.5 2.5l-.94 2.06-2.06.94zm10 10l.94 2.06.94-2.06 2.06-.94-2.06-.94-.94-2.06-.94 2.06-2.06.94z\"/><path d=\"M17.41 7.96l-1.37-1.37c-.4-.4-.92-.59-1.43-.59-.52 0-1.04.2-1.43.59L10.3 9.45l-7.72 7.72c-.78.78-.78 2.05 0 2.83L4 21.41c.39.39.9.59 1.41.59.51 0 1.02-.2 1.41-.59l7.78-7.78 2.81-2.81c.8-.78.8-2.07 0-2.86zM5.41 20L4 18.59l7.72-7.72 1.47 1.35L5.41 20z\"/>\n",
              "  </svg>\n",
              "      </button>\n",
              "      \n",
              "  <style>\n",
              "    .colab-df-container {\n",
              "      display:flex;\n",
              "      flex-wrap:wrap;\n",
              "      gap: 12px;\n",
              "    }\n",
              "\n",
              "    .colab-df-convert {\n",
              "      background-color: #E8F0FE;\n",
              "      border: none;\n",
              "      border-radius: 50%;\n",
              "      cursor: pointer;\n",
              "      display: none;\n",
              "      fill: #1967D2;\n",
              "      height: 32px;\n",
              "      padding: 0 0 0 0;\n",
              "      width: 32px;\n",
              "    }\n",
              "\n",
              "    .colab-df-convert:hover {\n",
              "      background-color: #E2EBFA;\n",
              "      box-shadow: 0px 1px 2px rgba(60, 64, 67, 0.3), 0px 1px 3px 1px rgba(60, 64, 67, 0.15);\n",
              "      fill: #174EA6;\n",
              "    }\n",
              "\n",
              "    [theme=dark] .colab-df-convert {\n",
              "      background-color: #3B4455;\n",
              "      fill: #D2E3FC;\n",
              "    }\n",
              "\n",
              "    [theme=dark] .colab-df-convert:hover {\n",
              "      background-color: #434B5C;\n",
              "      box-shadow: 0px 1px 3px 1px rgba(0, 0, 0, 0.15);\n",
              "      filter: drop-shadow(0px 1px 2px rgba(0, 0, 0, 0.3));\n",
              "      fill: #FFFFFF;\n",
              "    }\n",
              "  </style>\n",
              "\n",
              "      <script>\n",
              "        const buttonEl =\n",
              "          document.querySelector('#df-8b7c15f3-00f6-4dd7-ab9b-b7cf8d2f5676 button.colab-df-convert');\n",
              "        buttonEl.style.display =\n",
              "          google.colab.kernel.accessAllowed ? 'block' : 'none';\n",
              "\n",
              "        async function convertToInteractive(key) {\n",
              "          const element = document.querySelector('#df-8b7c15f3-00f6-4dd7-ab9b-b7cf8d2f5676');\n",
              "          const dataTable =\n",
              "            await google.colab.kernel.invokeFunction('convertToInteractive',\n",
              "                                                     [key], {});\n",
              "          if (!dataTable) return;\n",
              "\n",
              "          const docLinkHtml = 'Like what you see? Visit the ' +\n",
              "            '<a target=\"_blank\" href=https://colab.research.google.com/notebooks/data_table.ipynb>data table notebook</a>'\n",
              "            + ' to learn more about interactive tables.';\n",
              "          element.innerHTML = '';\n",
              "          dataTable['output_type'] = 'display_data';\n",
              "          await google.colab.output.renderOutput(dataTable, element);\n",
              "          const docLink = document.createElement('div');\n",
              "          docLink.innerHTML = docLinkHtml;\n",
              "          element.appendChild(docLink);\n",
              "        }\n",
              "      </script>\n",
              "    </div>\n",
              "  </div>\n",
              "  "
            ],
            "text/plain": [
              "        Product id  ...                                        Positioning\n",
              "12296        12297  ...  Juice Drinks (up to 25% juice), Convenience - ...\n",
              "12596        12597  ...  100% Reconstituted, No Additives/Preservatives...\n",
              "13592        13593  ...  Nectars (25-99% juice), Allergy, Gluten Free, ...\n",
              "16774        16775  ...  Juice Drinks (up to 25% juice), Convenience - ...\n",
              "18261        18262  ...                     Juice Drinks (up to 25% juice)\n",
              "...            ...  ...                                                ...\n",
              "111147      111148  ...     Ethical - Packaging, Convenience - Consumption\n",
              "111148      111149  ...                          100% Not from Concentrate\n",
              "111189      111190  ...  Allergy, Gluten Free, Low Sodium, Convenience ...\n",
              "111196      111197  ...  Vegetarian, Dry, Vitamin/Mineral Fortified, Br...\n",
              "111211      111212  ...  No Additives/Preservatives, Convenience - Cons...\n",
              "\n",
              "[2268 rows x 7 columns]"
            ]
          },
          "metadata": {},
          "execution_count": 14
        }
      ]
    },
    {
      "cell_type": "code",
      "source": [
        "# Replacing the flavor \"Orange, not specified\" & \"Orange, Not specified\" with \"Orange, Not Specified\".\n",
        "Products1['Flavor'].replace({\"Orange, not specified\":\"Orange, Not Specified\",\"Orange, Not specified\":\"Orange, Not Specified\"}, inplace=True)\n"
      ],
      "metadata": {
        "colab": {
          "base_uri": "https://localhost:8080/"
        },
        "id": "zScDXEc8Xub7",
        "outputId": "ad6f9f0e-696e-4ded-802e-7fbc4212ae4f"
      },
      "execution_count": null,
      "outputs": [
        {
          "output_type": "stream",
          "name": "stderr",
          "text": [
            "/usr/local/lib/python3.7/dist-packages/pandas/core/series.py:4582: SettingWithCopyWarning: \n",
            "A value is trying to be set on a copy of a slice from a DataFrame\n",
            "\n",
            "See the caveats in the documentation: https://pandas.pydata.org/pandas-docs/stable/user_guide/indexing.html#returning-a-view-versus-a-copy\n",
            "  method=method,\n"
          ]
        }
      ]
    },
    {
      "cell_type": "code",
      "source": [
        "Products1[Products1['Flavor']=='Orange, Not Specified']"
      ],
      "metadata": {
        "colab": {
          "base_uri": "https://localhost:8080/",
          "height": 424
        },
        "id": "WfPZHv3GXtsp",
        "outputId": "ff0f4d88-f4b5-426b-ac81-0d3c0fc487d4"
      },
      "execution_count": null,
      "outputs": [
        {
          "output_type": "execute_result",
          "data": {
            "text/html": [
              "\n",
              "  <div id=\"df-50373aae-3bf9-46cf-87bf-d6a07eb0ff09\">\n",
              "    <div class=\"colab-df-container\">\n",
              "      <div>\n",
              "<style scoped>\n",
              "    .dataframe tbody tr th:only-of-type {\n",
              "        vertical-align: middle;\n",
              "    }\n",
              "\n",
              "    .dataframe tbody tr th {\n",
              "        vertical-align: top;\n",
              "    }\n",
              "\n",
              "    .dataframe thead th {\n",
              "        text-align: right;\n",
              "    }\n",
              "</style>\n",
              "<table border=\"1\" class=\"dataframe\">\n",
              "  <thead>\n",
              "    <tr style=\"text-align: right;\">\n",
              "      <th></th>\n",
              "      <th>Product id</th>\n",
              "      <th>Flavor</th>\n",
              "      <th>Market Subcategory</th>\n",
              "      <th>Launch Date</th>\n",
              "      <th>Country</th>\n",
              "      <th>Region</th>\n",
              "      <th>Positioning</th>\n",
              "    </tr>\n",
              "  </thead>\n",
              "  <tbody>\n",
              "    <tr>\n",
              "      <th>7799</th>\n",
              "      <td>7800</td>\n",
              "      <td>Orange, Not Specified</td>\n",
              "      <td>Juice &amp; Juice Drinks</td>\n",
              "      <td>2005-01-01</td>\n",
              "      <td>WE2</td>\n",
              "      <td>West Europe</td>\n",
              "      <td>Juice Drinks (up to 25% juice), Vegetarian, Co...</td>\n",
              "    </tr>\n",
              "    <tr>\n",
              "      <th>7949</th>\n",
              "      <td>7950</td>\n",
              "      <td>Orange, Not Specified</td>\n",
              "      <td>Juice &amp; Juice Drinks</td>\n",
              "      <td>2005-01-01</td>\n",
              "      <td>LA12</td>\n",
              "      <td>Latin America</td>\n",
              "      <td>100% Reconstituted, Kosher, Convenience - Cons...</td>\n",
              "    </tr>\n",
              "    <tr>\n",
              "      <th>8023</th>\n",
              "      <td>8024</td>\n",
              "      <td>Orange, Not Specified</td>\n",
              "      <td>Juice &amp; Juice Drinks</td>\n",
              "      <td>2005-01-01</td>\n",
              "      <td>WE12</td>\n",
              "      <td>West Europe</td>\n",
              "      <td>100% Reconstituted, No Added Sugar</td>\n",
              "    </tr>\n",
              "    <tr>\n",
              "      <th>8101</th>\n",
              "      <td>8102</td>\n",
              "      <td>Orange, Not Specified</td>\n",
              "      <td>Juice &amp; Juice Drinks</td>\n",
              "      <td>2005-01-01</td>\n",
              "      <td>WE12</td>\n",
              "      <td>West Europe</td>\n",
              "      <td>100% Reconstituted, No Additives/Preservatives</td>\n",
              "    </tr>\n",
              "    <tr>\n",
              "      <th>8102</th>\n",
              "      <td>8103</td>\n",
              "      <td>Orange, Not Specified</td>\n",
              "      <td>Juice &amp; Juice Drinks</td>\n",
              "      <td>2005-01-01</td>\n",
              "      <td>WE12</td>\n",
              "      <td>West Europe</td>\n",
              "      <td>100% Reconstituted, Convenience - Consumption,...</td>\n",
              "    </tr>\n",
              "    <tr>\n",
              "      <th>...</th>\n",
              "      <td>...</td>\n",
              "      <td>...</td>\n",
              "      <td>...</td>\n",
              "      <td>...</td>\n",
              "      <td>...</td>\n",
              "      <td>...</td>\n",
              "      <td>...</td>\n",
              "    </tr>\n",
              "    <tr>\n",
              "      <th>114559</th>\n",
              "      <td>114560</td>\n",
              "      <td>Orange, Not Specified</td>\n",
              "      <td>Drink Concentrates &amp; Mixes</td>\n",
              "      <td>2007-01-01</td>\n",
              "      <td>A9</td>\n",
              "      <td>Asia</td>\n",
              "      <td>No Additives/Preservatives, Vitamin/Mineral Fo...</td>\n",
              "    </tr>\n",
              "    <tr>\n",
              "      <th>114610</th>\n",
              "      <td>114611</td>\n",
              "      <td>Orange, Not Specified</td>\n",
              "      <td>Energy Drinks</td>\n",
              "      <td>2007-01-01</td>\n",
              "      <td>NA1</td>\n",
              "      <td>North America</td>\n",
              "      <td>Energy/Alertness, Convenience - Consumption</td>\n",
              "    </tr>\n",
              "    <tr>\n",
              "      <th>114615</th>\n",
              "      <td>114616</td>\n",
              "      <td>Orange, Not Specified</td>\n",
              "      <td>Juice &amp; Juice Drinks</td>\n",
              "      <td>2010-01-01</td>\n",
              "      <td>NA1</td>\n",
              "      <td>North America</td>\n",
              "      <td>100% Reconstituted, Kosher</td>\n",
              "    </tr>\n",
              "    <tr>\n",
              "      <th>114644</th>\n",
              "      <td>114645</td>\n",
              "      <td>Orange, Not Specified</td>\n",
              "      <td>Carbonates</td>\n",
              "      <td>2010-01-01</td>\n",
              "      <td>NA1</td>\n",
              "      <td>North America</td>\n",
              "      <td>Ethical - Packaging, Convenience - Consumption</td>\n",
              "    </tr>\n",
              "    <tr>\n",
              "      <th>114680</th>\n",
              "      <td>114681</td>\n",
              "      <td>Orange, Not Specified</td>\n",
              "      <td>Juice &amp; Juice Drinks</td>\n",
              "      <td>2010-01-01</td>\n",
              "      <td>NA1</td>\n",
              "      <td>North America</td>\n",
              "      <td>Indulgent and Premium, Heart Health, Kosher</td>\n",
              "    </tr>\n",
              "  </tbody>\n",
              "</table>\n",
              "<p>5809 rows × 7 columns</p>\n",
              "</div>\n",
              "      <button class=\"colab-df-convert\" onclick=\"convertToInteractive('df-50373aae-3bf9-46cf-87bf-d6a07eb0ff09')\"\n",
              "              title=\"Convert this dataframe to an interactive table.\"\n",
              "              style=\"display:none;\">\n",
              "        \n",
              "  <svg xmlns=\"http://www.w3.org/2000/svg\" height=\"24px\"viewBox=\"0 0 24 24\"\n",
              "       width=\"24px\">\n",
              "    <path d=\"M0 0h24v24H0V0z\" fill=\"none\"/>\n",
              "    <path d=\"M18.56 5.44l.94 2.06.94-2.06 2.06-.94-2.06-.94-.94-2.06-.94 2.06-2.06.94zm-11 1L8.5 8.5l.94-2.06 2.06-.94-2.06-.94L8.5 2.5l-.94 2.06-2.06.94zm10 10l.94 2.06.94-2.06 2.06-.94-2.06-.94-.94-2.06-.94 2.06-2.06.94z\"/><path d=\"M17.41 7.96l-1.37-1.37c-.4-.4-.92-.59-1.43-.59-.52 0-1.04.2-1.43.59L10.3 9.45l-7.72 7.72c-.78.78-.78 2.05 0 2.83L4 21.41c.39.39.9.59 1.41.59.51 0 1.02-.2 1.41-.59l7.78-7.78 2.81-2.81c.8-.78.8-2.07 0-2.86zM5.41 20L4 18.59l7.72-7.72 1.47 1.35L5.41 20z\"/>\n",
              "  </svg>\n",
              "      </button>\n",
              "      \n",
              "  <style>\n",
              "    .colab-df-container {\n",
              "      display:flex;\n",
              "      flex-wrap:wrap;\n",
              "      gap: 12px;\n",
              "    }\n",
              "\n",
              "    .colab-df-convert {\n",
              "      background-color: #E8F0FE;\n",
              "      border: none;\n",
              "      border-radius: 50%;\n",
              "      cursor: pointer;\n",
              "      display: none;\n",
              "      fill: #1967D2;\n",
              "      height: 32px;\n",
              "      padding: 0 0 0 0;\n",
              "      width: 32px;\n",
              "    }\n",
              "\n",
              "    .colab-df-convert:hover {\n",
              "      background-color: #E2EBFA;\n",
              "      box-shadow: 0px 1px 2px rgba(60, 64, 67, 0.3), 0px 1px 3px 1px rgba(60, 64, 67, 0.15);\n",
              "      fill: #174EA6;\n",
              "    }\n",
              "\n",
              "    [theme=dark] .colab-df-convert {\n",
              "      background-color: #3B4455;\n",
              "      fill: #D2E3FC;\n",
              "    }\n",
              "\n",
              "    [theme=dark] .colab-df-convert:hover {\n",
              "      background-color: #434B5C;\n",
              "      box-shadow: 0px 1px 3px 1px rgba(0, 0, 0, 0.15);\n",
              "      filter: drop-shadow(0px 1px 2px rgba(0, 0, 0, 0.3));\n",
              "      fill: #FFFFFF;\n",
              "    }\n",
              "  </style>\n",
              "\n",
              "      <script>\n",
              "        const buttonEl =\n",
              "          document.querySelector('#df-50373aae-3bf9-46cf-87bf-d6a07eb0ff09 button.colab-df-convert');\n",
              "        buttonEl.style.display =\n",
              "          google.colab.kernel.accessAllowed ? 'block' : 'none';\n",
              "\n",
              "        async function convertToInteractive(key) {\n",
              "          const element = document.querySelector('#df-50373aae-3bf9-46cf-87bf-d6a07eb0ff09');\n",
              "          const dataTable =\n",
              "            await google.colab.kernel.invokeFunction('convertToInteractive',\n",
              "                                                     [key], {});\n",
              "          if (!dataTable) return;\n",
              "\n",
              "          const docLinkHtml = 'Like what you see? Visit the ' +\n",
              "            '<a target=\"_blank\" href=https://colab.research.google.com/notebooks/data_table.ipynb>data table notebook</a>'\n",
              "            + ' to learn more about interactive tables.';\n",
              "          element.innerHTML = '';\n",
              "          dataTable['output_type'] = 'display_data';\n",
              "          await google.colab.output.renderOutput(dataTable, element);\n",
              "          const docLink = document.createElement('div');\n",
              "          docLink.innerHTML = docLinkHtml;\n",
              "          element.appendChild(docLink);\n",
              "        }\n",
              "      </script>\n",
              "    </div>\n",
              "  </div>\n",
              "  "
            ],
            "text/plain": [
              "        Product id  ...                                        Positioning\n",
              "7799          7800  ...  Juice Drinks (up to 25% juice), Vegetarian, Co...\n",
              "7949          7950  ...  100% Reconstituted, Kosher, Convenience - Cons...\n",
              "8023          8024  ...                 100% Reconstituted, No Added Sugar\n",
              "8101          8102  ...     100% Reconstituted, No Additives/Preservatives\n",
              "8102          8103  ...  100% Reconstituted, Convenience - Consumption,...\n",
              "...            ...  ...                                                ...\n",
              "114559      114560  ...  No Additives/Preservatives, Vitamin/Mineral Fo...\n",
              "114610      114611  ...        Energy/Alertness, Convenience - Consumption\n",
              "114615      114616  ...                         100% Reconstituted, Kosher\n",
              "114644      114645  ...     Ethical - Packaging, Convenience - Consumption\n",
              "114680      114681  ...        Indulgent and Premium, Heart Health, Kosher\n",
              "\n",
              "[5809 rows x 7 columns]"
            ]
          },
          "metadata": {},
          "execution_count": 16
        }
      ]
    },
    {
      "cell_type": "code",
      "source": [
        "Products1[Products1['Flavor']=='Apple, red']"
      ],
      "metadata": {
        "colab": {
          "base_uri": "https://localhost:8080/",
          "height": 424
        },
        "id": "IDSNgyzFZiw7",
        "outputId": "f78eeb14-2c7e-40c7-ab36-d05ac1a3f5c5"
      },
      "execution_count": null,
      "outputs": [
        {
          "output_type": "execute_result",
          "data": {
            "text/html": [
              "\n",
              "  <div id=\"df-ec0499cc-6e21-40fd-b190-0b2f8cc9f98e\">\n",
              "    <div class=\"colab-df-container\">\n",
              "      <div>\n",
              "<style scoped>\n",
              "    .dataframe tbody tr th:only-of-type {\n",
              "        vertical-align: middle;\n",
              "    }\n",
              "\n",
              "    .dataframe tbody tr th {\n",
              "        vertical-align: top;\n",
              "    }\n",
              "\n",
              "    .dataframe thead th {\n",
              "        text-align: right;\n",
              "    }\n",
              "</style>\n",
              "<table border=\"1\" class=\"dataframe\">\n",
              "  <thead>\n",
              "    <tr style=\"text-align: right;\">\n",
              "      <th></th>\n",
              "      <th>Product id</th>\n",
              "      <th>Flavor</th>\n",
              "      <th>Market Subcategory</th>\n",
              "      <th>Launch Date</th>\n",
              "      <th>Country</th>\n",
              "      <th>Region</th>\n",
              "      <th>Positioning</th>\n",
              "    </tr>\n",
              "  </thead>\n",
              "  <tbody>\n",
              "    <tr>\n",
              "      <th>8338</th>\n",
              "      <td>8339</td>\n",
              "      <td>Apple, red</td>\n",
              "      <td>Juice &amp; Juice Drinks</td>\n",
              "      <td>2005-01-01</td>\n",
              "      <td>WE8</td>\n",
              "      <td>West Europe</td>\n",
              "      <td>100% Reconstituted</td>\n",
              "    </tr>\n",
              "    <tr>\n",
              "      <th>8423</th>\n",
              "      <td>8424</td>\n",
              "      <td>Apple, red</td>\n",
              "      <td>Juice &amp; Juice Drinks</td>\n",
              "      <td>2005-01-01</td>\n",
              "      <td>WE1</td>\n",
              "      <td>West Europe</td>\n",
              "      <td>100% Reconstituted</td>\n",
              "    </tr>\n",
              "    <tr>\n",
              "      <th>8455</th>\n",
              "      <td>8456</td>\n",
              "      <td>Apple, red</td>\n",
              "      <td>Juice &amp; Juice Drinks</td>\n",
              "      <td>2005-01-01</td>\n",
              "      <td>WE1</td>\n",
              "      <td>West Europe</td>\n",
              "      <td>Nectars (25-99% juice), Convenience - Consumpt...</td>\n",
              "    </tr>\n",
              "    <tr>\n",
              "      <th>8639</th>\n",
              "      <td>8640</td>\n",
              "      <td>Apple, red</td>\n",
              "      <td>Juice &amp; Juice Drinks</td>\n",
              "      <td>2005-01-01</td>\n",
              "      <td>WE9</td>\n",
              "      <td>West Europe</td>\n",
              "      <td>100% Not from Concentrate, Natural</td>\n",
              "    </tr>\n",
              "    <tr>\n",
              "      <th>8665</th>\n",
              "      <td>8666</td>\n",
              "      <td>Apple, red</td>\n",
              "      <td>Juice &amp; Juice Drinks</td>\n",
              "      <td>2005-01-01</td>\n",
              "      <td>WE1</td>\n",
              "      <td>West Europe</td>\n",
              "      <td>100% Reconstituted, No Added Sugar</td>\n",
              "    </tr>\n",
              "    <tr>\n",
              "      <th>...</th>\n",
              "      <td>...</td>\n",
              "      <td>...</td>\n",
              "      <td>...</td>\n",
              "      <td>...</td>\n",
              "      <td>...</td>\n",
              "      <td>...</td>\n",
              "      <td>...</td>\n",
              "    </tr>\n",
              "    <tr>\n",
              "      <th>98348</th>\n",
              "      <td>98349</td>\n",
              "      <td>Apple, red</td>\n",
              "      <td>Juice &amp; Juice Drinks</td>\n",
              "      <td>2008-01-01</td>\n",
              "      <td>A12</td>\n",
              "      <td>Asia</td>\n",
              "      <td>100% Reconstituted, Low Fat, No Added Sugar, N...</td>\n",
              "    </tr>\n",
              "    <tr>\n",
              "      <th>98361</th>\n",
              "      <td>98362</td>\n",
              "      <td>Apple, red</td>\n",
              "      <td>Drink Concentrates &amp; Mixes</td>\n",
              "      <td>2008-01-01</td>\n",
              "      <td>A10</td>\n",
              "      <td>Asia</td>\n",
              "      <td>Dry, Convenience - Easy-to-Prepare</td>\n",
              "    </tr>\n",
              "    <tr>\n",
              "      <th>98401</th>\n",
              "      <td>98402</td>\n",
              "      <td>Apple, red</td>\n",
              "      <td>Juice &amp; Juice Drinks</td>\n",
              "      <td>2008-01-01</td>\n",
              "      <td>A12</td>\n",
              "      <td>Asia</td>\n",
              "      <td>Juice Drinks (up to 25% juice), Vegetarian</td>\n",
              "    </tr>\n",
              "    <tr>\n",
              "      <th>98464</th>\n",
              "      <td>98465</td>\n",
              "      <td>Apple, red</td>\n",
              "      <td>Juice &amp; Juice Drinks</td>\n",
              "      <td>2008-01-01</td>\n",
              "      <td>WE16</td>\n",
              "      <td>West Europe</td>\n",
              "      <td>Juice Drinks (up to 25% juice), No Added Sugar</td>\n",
              "    </tr>\n",
              "    <tr>\n",
              "      <th>98531</th>\n",
              "      <td>98532</td>\n",
              "      <td>Apple, red</td>\n",
              "      <td>Juice &amp; Juice Drinks</td>\n",
              "      <td>2008-01-01</td>\n",
              "      <td>A12</td>\n",
              "      <td>Asia</td>\n",
              "      <td>Economy, Juice Drinks (up to 25% juice), Low C...</td>\n",
              "    </tr>\n",
              "  </tbody>\n",
              "</table>\n",
              "<p>1130 rows × 7 columns</p>\n",
              "</div>\n",
              "      <button class=\"colab-df-convert\" onclick=\"convertToInteractive('df-ec0499cc-6e21-40fd-b190-0b2f8cc9f98e')\"\n",
              "              title=\"Convert this dataframe to an interactive table.\"\n",
              "              style=\"display:none;\">\n",
              "        \n",
              "  <svg xmlns=\"http://www.w3.org/2000/svg\" height=\"24px\"viewBox=\"0 0 24 24\"\n",
              "       width=\"24px\">\n",
              "    <path d=\"M0 0h24v24H0V0z\" fill=\"none\"/>\n",
              "    <path d=\"M18.56 5.44l.94 2.06.94-2.06 2.06-.94-2.06-.94-.94-2.06-.94 2.06-2.06.94zm-11 1L8.5 8.5l.94-2.06 2.06-.94-2.06-.94L8.5 2.5l-.94 2.06-2.06.94zm10 10l.94 2.06.94-2.06 2.06-.94-2.06-.94-.94-2.06-.94 2.06-2.06.94z\"/><path d=\"M17.41 7.96l-1.37-1.37c-.4-.4-.92-.59-1.43-.59-.52 0-1.04.2-1.43.59L10.3 9.45l-7.72 7.72c-.78.78-.78 2.05 0 2.83L4 21.41c.39.39.9.59 1.41.59.51 0 1.02-.2 1.41-.59l7.78-7.78 2.81-2.81c.8-.78.8-2.07 0-2.86zM5.41 20L4 18.59l7.72-7.72 1.47 1.35L5.41 20z\"/>\n",
              "  </svg>\n",
              "      </button>\n",
              "      \n",
              "  <style>\n",
              "    .colab-df-container {\n",
              "      display:flex;\n",
              "      flex-wrap:wrap;\n",
              "      gap: 12px;\n",
              "    }\n",
              "\n",
              "    .colab-df-convert {\n",
              "      background-color: #E8F0FE;\n",
              "      border: none;\n",
              "      border-radius: 50%;\n",
              "      cursor: pointer;\n",
              "      display: none;\n",
              "      fill: #1967D2;\n",
              "      height: 32px;\n",
              "      padding: 0 0 0 0;\n",
              "      width: 32px;\n",
              "    }\n",
              "\n",
              "    .colab-df-convert:hover {\n",
              "      background-color: #E2EBFA;\n",
              "      box-shadow: 0px 1px 2px rgba(60, 64, 67, 0.3), 0px 1px 3px 1px rgba(60, 64, 67, 0.15);\n",
              "      fill: #174EA6;\n",
              "    }\n",
              "\n",
              "    [theme=dark] .colab-df-convert {\n",
              "      background-color: #3B4455;\n",
              "      fill: #D2E3FC;\n",
              "    }\n",
              "\n",
              "    [theme=dark] .colab-df-convert:hover {\n",
              "      background-color: #434B5C;\n",
              "      box-shadow: 0px 1px 3px 1px rgba(0, 0, 0, 0.15);\n",
              "      filter: drop-shadow(0px 1px 2px rgba(0, 0, 0, 0.3));\n",
              "      fill: #FFFFFF;\n",
              "    }\n",
              "  </style>\n",
              "\n",
              "      <script>\n",
              "        const buttonEl =\n",
              "          document.querySelector('#df-ec0499cc-6e21-40fd-b190-0b2f8cc9f98e button.colab-df-convert');\n",
              "        buttonEl.style.display =\n",
              "          google.colab.kernel.accessAllowed ? 'block' : 'none';\n",
              "\n",
              "        async function convertToInteractive(key) {\n",
              "          const element = document.querySelector('#df-ec0499cc-6e21-40fd-b190-0b2f8cc9f98e');\n",
              "          const dataTable =\n",
              "            await google.colab.kernel.invokeFunction('convertToInteractive',\n",
              "                                                     [key], {});\n",
              "          if (!dataTable) return;\n",
              "\n",
              "          const docLinkHtml = 'Like what you see? Visit the ' +\n",
              "            '<a target=\"_blank\" href=https://colab.research.google.com/notebooks/data_table.ipynb>data table notebook</a>'\n",
              "            + ' to learn more about interactive tables.';\n",
              "          element.innerHTML = '';\n",
              "          dataTable['output_type'] = 'display_data';\n",
              "          await google.colab.output.renderOutput(dataTable, element);\n",
              "          const docLink = document.createElement('div');\n",
              "          docLink.innerHTML = docLinkHtml;\n",
              "          element.appendChild(docLink);\n",
              "        }\n",
              "      </script>\n",
              "    </div>\n",
              "  </div>\n",
              "  "
            ],
            "text/plain": [
              "       Product id  ...                                        Positioning\n",
              "8338         8339  ...                                 100% Reconstituted\n",
              "8423         8424  ...                                 100% Reconstituted\n",
              "8455         8456  ...  Nectars (25-99% juice), Convenience - Consumpt...\n",
              "8639         8640  ...                 100% Not from Concentrate, Natural\n",
              "8665         8666  ...                 100% Reconstituted, No Added Sugar\n",
              "...           ...  ...                                                ...\n",
              "98348       98349  ...  100% Reconstituted, Low Fat, No Added Sugar, N...\n",
              "98361       98362  ...                 Dry, Convenience - Easy-to-Prepare\n",
              "98401       98402  ...         Juice Drinks (up to 25% juice), Vegetarian\n",
              "98464       98465  ...     Juice Drinks (up to 25% juice), No Added Sugar\n",
              "98531       98532  ...  Economy, Juice Drinks (up to 25% juice), Low C...\n",
              "\n",
              "[1130 rows x 7 columns]"
            ]
          },
          "metadata": {},
          "execution_count": 17
        }
      ]
    },
    {
      "cell_type": "code",
      "source": [
        "Products1[Products1['Flavor']=='Apple, Red']"
      ],
      "metadata": {
        "colab": {
          "base_uri": "https://localhost:8080/",
          "height": 424
        },
        "id": "p2MTQLDvZizr",
        "outputId": "8bb203b9-73a3-4a4f-f91c-9d2131c32d4e"
      },
      "execution_count": null,
      "outputs": [
        {
          "output_type": "execute_result",
          "data": {
            "text/html": [
              "\n",
              "  <div id=\"df-30cebd3d-8b83-4772-b49f-1006551ab9ba\">\n",
              "    <div class=\"colab-df-container\">\n",
              "      <div>\n",
              "<style scoped>\n",
              "    .dataframe tbody tr th:only-of-type {\n",
              "        vertical-align: middle;\n",
              "    }\n",
              "\n",
              "    .dataframe tbody tr th {\n",
              "        vertical-align: top;\n",
              "    }\n",
              "\n",
              "    .dataframe thead th {\n",
              "        text-align: right;\n",
              "    }\n",
              "</style>\n",
              "<table border=\"1\" class=\"dataframe\">\n",
              "  <thead>\n",
              "    <tr style=\"text-align: right;\">\n",
              "      <th></th>\n",
              "      <th>Product id</th>\n",
              "      <th>Flavor</th>\n",
              "      <th>Market Subcategory</th>\n",
              "      <th>Launch Date</th>\n",
              "      <th>Country</th>\n",
              "      <th>Region</th>\n",
              "      <th>Positioning</th>\n",
              "    </tr>\n",
              "  </thead>\n",
              "  <tbody>\n",
              "    <tr>\n",
              "      <th>7593</th>\n",
              "      <td>7594</td>\n",
              "      <td>Apple, Red</td>\n",
              "      <td>Juice &amp; Juice Drinks</td>\n",
              "      <td>2005-01-01</td>\n",
              "      <td>ME4</td>\n",
              "      <td>Middle East</td>\n",
              "      <td>100% Reconstituted, Convenience - Consumption</td>\n",
              "    </tr>\n",
              "    <tr>\n",
              "      <th>8541</th>\n",
              "      <td>8542</td>\n",
              "      <td>Apple, Red</td>\n",
              "      <td>Juice &amp; Juice Drinks</td>\n",
              "      <td>2005-01-01</td>\n",
              "      <td>WE9</td>\n",
              "      <td>West Europe</td>\n",
              "      <td>Juice Drinks (up to 25% juice), No Additives/P...</td>\n",
              "    </tr>\n",
              "    <tr>\n",
              "      <th>13418</th>\n",
              "      <td>13419</td>\n",
              "      <td>Apple, Red</td>\n",
              "      <td>Juice &amp; Juice Drinks</td>\n",
              "      <td>2006-01-01</td>\n",
              "      <td>WE1</td>\n",
              "      <td>West Europe</td>\n",
              "      <td>Economy, 100% Reconstituted, No Additives/Pres...</td>\n",
              "    </tr>\n",
              "    <tr>\n",
              "      <th>17407</th>\n",
              "      <td>17408</td>\n",
              "      <td>Apple, Red</td>\n",
              "      <td>Carbonates</td>\n",
              "      <td>2007-01-01</td>\n",
              "      <td>ME4</td>\n",
              "      <td>Middle East</td>\n",
              "      <td>Low Fat, Convenience - Consumption</td>\n",
              "    </tr>\n",
              "    <tr>\n",
              "      <th>18262</th>\n",
              "      <td>18263</td>\n",
              "      <td>Apple, Red</td>\n",
              "      <td>Juice &amp; Juice Drinks</td>\n",
              "      <td>2007-01-01</td>\n",
              "      <td>WE1</td>\n",
              "      <td>West Europe</td>\n",
              "      <td>Nectars (25-99% juice)</td>\n",
              "    </tr>\n",
              "    <tr>\n",
              "      <th>...</th>\n",
              "      <td>...</td>\n",
              "      <td>...</td>\n",
              "      <td>...</td>\n",
              "      <td>...</td>\n",
              "      <td>...</td>\n",
              "      <td>...</td>\n",
              "      <td>...</td>\n",
              "    </tr>\n",
              "    <tr>\n",
              "      <th>114653</th>\n",
              "      <td>114654</td>\n",
              "      <td>Apple, Red</td>\n",
              "      <td>Juice &amp; Juice Drinks</td>\n",
              "      <td>2010-01-01</td>\n",
              "      <td>NA1</td>\n",
              "      <td>North America</td>\n",
              "      <td>100% Reconstituted, Convenience - Consumption</td>\n",
              "    </tr>\n",
              "    <tr>\n",
              "      <th>114655</th>\n",
              "      <td>114656</td>\n",
              "      <td>Apple, Red</td>\n",
              "      <td>Juice &amp; Juice Drinks</td>\n",
              "      <td>2010-01-01</td>\n",
              "      <td>NA1</td>\n",
              "      <td>North America</td>\n",
              "      <td>100% Reconstituted, Convenience - Consumption</td>\n",
              "    </tr>\n",
              "    <tr>\n",
              "      <th>114657</th>\n",
              "      <td>114658</td>\n",
              "      <td>Apple, Red</td>\n",
              "      <td>Juice &amp; Juice Drinks</td>\n",
              "      <td>2010-01-01</td>\n",
              "      <td>NA1</td>\n",
              "      <td>North America</td>\n",
              "      <td>100% Reconstituted, Convenience - Consumption</td>\n",
              "    </tr>\n",
              "    <tr>\n",
              "      <th>114659</th>\n",
              "      <td>114660</td>\n",
              "      <td>Apple, Red</td>\n",
              "      <td>Carbonates</td>\n",
              "      <td>2010-01-01</td>\n",
              "      <td>AF14</td>\n",
              "      <td>Africa</td>\n",
              "      <td>Ethical - Packaging, Convenience - Consumption</td>\n",
              "    </tr>\n",
              "    <tr>\n",
              "      <th>114675</th>\n",
              "      <td>114676</td>\n",
              "      <td>Apple, Red</td>\n",
              "      <td>Juice &amp; Juice Drinks</td>\n",
              "      <td>2010-01-01</td>\n",
              "      <td>NA1</td>\n",
              "      <td>North America</td>\n",
              "      <td>Nectars (25-99% juice), No Added Sugar, No Add...</td>\n",
              "    </tr>\n",
              "  </tbody>\n",
              "</table>\n",
              "<p>1856 rows × 7 columns</p>\n",
              "</div>\n",
              "      <button class=\"colab-df-convert\" onclick=\"convertToInteractive('df-30cebd3d-8b83-4772-b49f-1006551ab9ba')\"\n",
              "              title=\"Convert this dataframe to an interactive table.\"\n",
              "              style=\"display:none;\">\n",
              "        \n",
              "  <svg xmlns=\"http://www.w3.org/2000/svg\" height=\"24px\"viewBox=\"0 0 24 24\"\n",
              "       width=\"24px\">\n",
              "    <path d=\"M0 0h24v24H0V0z\" fill=\"none\"/>\n",
              "    <path d=\"M18.56 5.44l.94 2.06.94-2.06 2.06-.94-2.06-.94-.94-2.06-.94 2.06-2.06.94zm-11 1L8.5 8.5l.94-2.06 2.06-.94-2.06-.94L8.5 2.5l-.94 2.06-2.06.94zm10 10l.94 2.06.94-2.06 2.06-.94-2.06-.94-.94-2.06-.94 2.06-2.06.94z\"/><path d=\"M17.41 7.96l-1.37-1.37c-.4-.4-.92-.59-1.43-.59-.52 0-1.04.2-1.43.59L10.3 9.45l-7.72 7.72c-.78.78-.78 2.05 0 2.83L4 21.41c.39.39.9.59 1.41.59.51 0 1.02-.2 1.41-.59l7.78-7.78 2.81-2.81c.8-.78.8-2.07 0-2.86zM5.41 20L4 18.59l7.72-7.72 1.47 1.35L5.41 20z\"/>\n",
              "  </svg>\n",
              "      </button>\n",
              "      \n",
              "  <style>\n",
              "    .colab-df-container {\n",
              "      display:flex;\n",
              "      flex-wrap:wrap;\n",
              "      gap: 12px;\n",
              "    }\n",
              "\n",
              "    .colab-df-convert {\n",
              "      background-color: #E8F0FE;\n",
              "      border: none;\n",
              "      border-radius: 50%;\n",
              "      cursor: pointer;\n",
              "      display: none;\n",
              "      fill: #1967D2;\n",
              "      height: 32px;\n",
              "      padding: 0 0 0 0;\n",
              "      width: 32px;\n",
              "    }\n",
              "\n",
              "    .colab-df-convert:hover {\n",
              "      background-color: #E2EBFA;\n",
              "      box-shadow: 0px 1px 2px rgba(60, 64, 67, 0.3), 0px 1px 3px 1px rgba(60, 64, 67, 0.15);\n",
              "      fill: #174EA6;\n",
              "    }\n",
              "\n",
              "    [theme=dark] .colab-df-convert {\n",
              "      background-color: #3B4455;\n",
              "      fill: #D2E3FC;\n",
              "    }\n",
              "\n",
              "    [theme=dark] .colab-df-convert:hover {\n",
              "      background-color: #434B5C;\n",
              "      box-shadow: 0px 1px 3px 1px rgba(0, 0, 0, 0.15);\n",
              "      filter: drop-shadow(0px 1px 2px rgba(0, 0, 0, 0.3));\n",
              "      fill: #FFFFFF;\n",
              "    }\n",
              "  </style>\n",
              "\n",
              "      <script>\n",
              "        const buttonEl =\n",
              "          document.querySelector('#df-30cebd3d-8b83-4772-b49f-1006551ab9ba button.colab-df-convert');\n",
              "        buttonEl.style.display =\n",
              "          google.colab.kernel.accessAllowed ? 'block' : 'none';\n",
              "\n",
              "        async function convertToInteractive(key) {\n",
              "          const element = document.querySelector('#df-30cebd3d-8b83-4772-b49f-1006551ab9ba');\n",
              "          const dataTable =\n",
              "            await google.colab.kernel.invokeFunction('convertToInteractive',\n",
              "                                                     [key], {});\n",
              "          if (!dataTable) return;\n",
              "\n",
              "          const docLinkHtml = 'Like what you see? Visit the ' +\n",
              "            '<a target=\"_blank\" href=https://colab.research.google.com/notebooks/data_table.ipynb>data table notebook</a>'\n",
              "            + ' to learn more about interactive tables.';\n",
              "          element.innerHTML = '';\n",
              "          dataTable['output_type'] = 'display_data';\n",
              "          await google.colab.output.renderOutput(dataTable, element);\n",
              "          const docLink = document.createElement('div');\n",
              "          docLink.innerHTML = docLinkHtml;\n",
              "          element.appendChild(docLink);\n",
              "        }\n",
              "      </script>\n",
              "    </div>\n",
              "  </div>\n",
              "  "
            ],
            "text/plain": [
              "        Product id  ...                                        Positioning\n",
              "7593          7594  ...      100% Reconstituted, Convenience - Consumption\n",
              "8541          8542  ...  Juice Drinks (up to 25% juice), No Additives/P...\n",
              "13418        13419  ...  Economy, 100% Reconstituted, No Additives/Pres...\n",
              "17407        17408  ...                 Low Fat, Convenience - Consumption\n",
              "18262        18263  ...                             Nectars (25-99% juice)\n",
              "...            ...  ...                                                ...\n",
              "114653      114654  ...      100% Reconstituted, Convenience - Consumption\n",
              "114655      114656  ...      100% Reconstituted, Convenience - Consumption\n",
              "114657      114658  ...      100% Reconstituted, Convenience - Consumption\n",
              "114659      114660  ...     Ethical - Packaging, Convenience - Consumption\n",
              "114675      114676  ...  Nectars (25-99% juice), No Added Sugar, No Add...\n",
              "\n",
              "[1856 rows x 7 columns]"
            ]
          },
          "metadata": {},
          "execution_count": 18
        }
      ]
    },
    {
      "cell_type": "code",
      "source": [
        "# Replacing the flavor \"Apple, red\" with \"Apple, Red\".\n",
        "Products1['Flavor'].replace({\"Apple, red\":\"Apple, Red\"}, inplace=True)\n"
      ],
      "metadata": {
        "colab": {
          "base_uri": "https://localhost:8080/"
        },
        "id": "9XMIsT8XZi26",
        "outputId": "b3b0b193-ea5e-4a3e-d01a-a72939259367"
      },
      "execution_count": null,
      "outputs": [
        {
          "output_type": "stream",
          "name": "stderr",
          "text": [
            "/usr/local/lib/python3.7/dist-packages/pandas/core/series.py:4582: SettingWithCopyWarning: \n",
            "A value is trying to be set on a copy of a slice from a DataFrame\n",
            "\n",
            "See the caveats in the documentation: https://pandas.pydata.org/pandas-docs/stable/user_guide/indexing.html#returning-a-view-versus-a-copy\n",
            "  method=method,\n"
          ]
        }
      ]
    },
    {
      "cell_type": "code",
      "source": [
        "Products1[Products1['Flavor']=='Apple, Red']"
      ],
      "metadata": {
        "colab": {
          "base_uri": "https://localhost:8080/",
          "height": 424
        },
        "id": "VO0WCuCZdKox",
        "outputId": "c83d0dcc-da47-43a4-859a-0dea0925b3b5"
      },
      "execution_count": null,
      "outputs": [
        {
          "output_type": "execute_result",
          "data": {
            "text/html": [
              "\n",
              "  <div id=\"df-94b6dc7b-601b-49f7-a41b-8d50202cfdb7\">\n",
              "    <div class=\"colab-df-container\">\n",
              "      <div>\n",
              "<style scoped>\n",
              "    .dataframe tbody tr th:only-of-type {\n",
              "        vertical-align: middle;\n",
              "    }\n",
              "\n",
              "    .dataframe tbody tr th {\n",
              "        vertical-align: top;\n",
              "    }\n",
              "\n",
              "    .dataframe thead th {\n",
              "        text-align: right;\n",
              "    }\n",
              "</style>\n",
              "<table border=\"1\" class=\"dataframe\">\n",
              "  <thead>\n",
              "    <tr style=\"text-align: right;\">\n",
              "      <th></th>\n",
              "      <th>Product id</th>\n",
              "      <th>Flavor</th>\n",
              "      <th>Market Subcategory</th>\n",
              "      <th>Launch Date</th>\n",
              "      <th>Country</th>\n",
              "      <th>Region</th>\n",
              "      <th>Positioning</th>\n",
              "    </tr>\n",
              "  </thead>\n",
              "  <tbody>\n",
              "    <tr>\n",
              "      <th>7593</th>\n",
              "      <td>7594</td>\n",
              "      <td>Apple, Red</td>\n",
              "      <td>Juice &amp; Juice Drinks</td>\n",
              "      <td>2005-01-01</td>\n",
              "      <td>ME4</td>\n",
              "      <td>Middle East</td>\n",
              "      <td>100% Reconstituted, Convenience - Consumption</td>\n",
              "    </tr>\n",
              "    <tr>\n",
              "      <th>8338</th>\n",
              "      <td>8339</td>\n",
              "      <td>Apple, Red</td>\n",
              "      <td>Juice &amp; Juice Drinks</td>\n",
              "      <td>2005-01-01</td>\n",
              "      <td>WE8</td>\n",
              "      <td>West Europe</td>\n",
              "      <td>100% Reconstituted</td>\n",
              "    </tr>\n",
              "    <tr>\n",
              "      <th>8423</th>\n",
              "      <td>8424</td>\n",
              "      <td>Apple, Red</td>\n",
              "      <td>Juice &amp; Juice Drinks</td>\n",
              "      <td>2005-01-01</td>\n",
              "      <td>WE1</td>\n",
              "      <td>West Europe</td>\n",
              "      <td>100% Reconstituted</td>\n",
              "    </tr>\n",
              "    <tr>\n",
              "      <th>8455</th>\n",
              "      <td>8456</td>\n",
              "      <td>Apple, Red</td>\n",
              "      <td>Juice &amp; Juice Drinks</td>\n",
              "      <td>2005-01-01</td>\n",
              "      <td>WE1</td>\n",
              "      <td>West Europe</td>\n",
              "      <td>Nectars (25-99% juice), Convenience - Consumpt...</td>\n",
              "    </tr>\n",
              "    <tr>\n",
              "      <th>8541</th>\n",
              "      <td>8542</td>\n",
              "      <td>Apple, Red</td>\n",
              "      <td>Juice &amp; Juice Drinks</td>\n",
              "      <td>2005-01-01</td>\n",
              "      <td>WE9</td>\n",
              "      <td>West Europe</td>\n",
              "      <td>Juice Drinks (up to 25% juice), No Additives/P...</td>\n",
              "    </tr>\n",
              "    <tr>\n",
              "      <th>...</th>\n",
              "      <td>...</td>\n",
              "      <td>...</td>\n",
              "      <td>...</td>\n",
              "      <td>...</td>\n",
              "      <td>...</td>\n",
              "      <td>...</td>\n",
              "      <td>...</td>\n",
              "    </tr>\n",
              "    <tr>\n",
              "      <th>114653</th>\n",
              "      <td>114654</td>\n",
              "      <td>Apple, Red</td>\n",
              "      <td>Juice &amp; Juice Drinks</td>\n",
              "      <td>2010-01-01</td>\n",
              "      <td>NA1</td>\n",
              "      <td>North America</td>\n",
              "      <td>100% Reconstituted, Convenience - Consumption</td>\n",
              "    </tr>\n",
              "    <tr>\n",
              "      <th>114655</th>\n",
              "      <td>114656</td>\n",
              "      <td>Apple, Red</td>\n",
              "      <td>Juice &amp; Juice Drinks</td>\n",
              "      <td>2010-01-01</td>\n",
              "      <td>NA1</td>\n",
              "      <td>North America</td>\n",
              "      <td>100% Reconstituted, Convenience - Consumption</td>\n",
              "    </tr>\n",
              "    <tr>\n",
              "      <th>114657</th>\n",
              "      <td>114658</td>\n",
              "      <td>Apple, Red</td>\n",
              "      <td>Juice &amp; Juice Drinks</td>\n",
              "      <td>2010-01-01</td>\n",
              "      <td>NA1</td>\n",
              "      <td>North America</td>\n",
              "      <td>100% Reconstituted, Convenience - Consumption</td>\n",
              "    </tr>\n",
              "    <tr>\n",
              "      <th>114659</th>\n",
              "      <td>114660</td>\n",
              "      <td>Apple, Red</td>\n",
              "      <td>Carbonates</td>\n",
              "      <td>2010-01-01</td>\n",
              "      <td>AF14</td>\n",
              "      <td>Africa</td>\n",
              "      <td>Ethical - Packaging, Convenience - Consumption</td>\n",
              "    </tr>\n",
              "    <tr>\n",
              "      <th>114675</th>\n",
              "      <td>114676</td>\n",
              "      <td>Apple, Red</td>\n",
              "      <td>Juice &amp; Juice Drinks</td>\n",
              "      <td>2010-01-01</td>\n",
              "      <td>NA1</td>\n",
              "      <td>North America</td>\n",
              "      <td>Nectars (25-99% juice), No Added Sugar, No Add...</td>\n",
              "    </tr>\n",
              "  </tbody>\n",
              "</table>\n",
              "<p>2986 rows × 7 columns</p>\n",
              "</div>\n",
              "      <button class=\"colab-df-convert\" onclick=\"convertToInteractive('df-94b6dc7b-601b-49f7-a41b-8d50202cfdb7')\"\n",
              "              title=\"Convert this dataframe to an interactive table.\"\n",
              "              style=\"display:none;\">\n",
              "        \n",
              "  <svg xmlns=\"http://www.w3.org/2000/svg\" height=\"24px\"viewBox=\"0 0 24 24\"\n",
              "       width=\"24px\">\n",
              "    <path d=\"M0 0h24v24H0V0z\" fill=\"none\"/>\n",
              "    <path d=\"M18.56 5.44l.94 2.06.94-2.06 2.06-.94-2.06-.94-.94-2.06-.94 2.06-2.06.94zm-11 1L8.5 8.5l.94-2.06 2.06-.94-2.06-.94L8.5 2.5l-.94 2.06-2.06.94zm10 10l.94 2.06.94-2.06 2.06-.94-2.06-.94-.94-2.06-.94 2.06-2.06.94z\"/><path d=\"M17.41 7.96l-1.37-1.37c-.4-.4-.92-.59-1.43-.59-.52 0-1.04.2-1.43.59L10.3 9.45l-7.72 7.72c-.78.78-.78 2.05 0 2.83L4 21.41c.39.39.9.59 1.41.59.51 0 1.02-.2 1.41-.59l7.78-7.78 2.81-2.81c.8-.78.8-2.07 0-2.86zM5.41 20L4 18.59l7.72-7.72 1.47 1.35L5.41 20z\"/>\n",
              "  </svg>\n",
              "      </button>\n",
              "      \n",
              "  <style>\n",
              "    .colab-df-container {\n",
              "      display:flex;\n",
              "      flex-wrap:wrap;\n",
              "      gap: 12px;\n",
              "    }\n",
              "\n",
              "    .colab-df-convert {\n",
              "      background-color: #E8F0FE;\n",
              "      border: none;\n",
              "      border-radius: 50%;\n",
              "      cursor: pointer;\n",
              "      display: none;\n",
              "      fill: #1967D2;\n",
              "      height: 32px;\n",
              "      padding: 0 0 0 0;\n",
              "      width: 32px;\n",
              "    }\n",
              "\n",
              "    .colab-df-convert:hover {\n",
              "      background-color: #E2EBFA;\n",
              "      box-shadow: 0px 1px 2px rgba(60, 64, 67, 0.3), 0px 1px 3px 1px rgba(60, 64, 67, 0.15);\n",
              "      fill: #174EA6;\n",
              "    }\n",
              "\n",
              "    [theme=dark] .colab-df-convert {\n",
              "      background-color: #3B4455;\n",
              "      fill: #D2E3FC;\n",
              "    }\n",
              "\n",
              "    [theme=dark] .colab-df-convert:hover {\n",
              "      background-color: #434B5C;\n",
              "      box-shadow: 0px 1px 3px 1px rgba(0, 0, 0, 0.15);\n",
              "      filter: drop-shadow(0px 1px 2px rgba(0, 0, 0, 0.3));\n",
              "      fill: #FFFFFF;\n",
              "    }\n",
              "  </style>\n",
              "\n",
              "      <script>\n",
              "        const buttonEl =\n",
              "          document.querySelector('#df-94b6dc7b-601b-49f7-a41b-8d50202cfdb7 button.colab-df-convert');\n",
              "        buttonEl.style.display =\n",
              "          google.colab.kernel.accessAllowed ? 'block' : 'none';\n",
              "\n",
              "        async function convertToInteractive(key) {\n",
              "          const element = document.querySelector('#df-94b6dc7b-601b-49f7-a41b-8d50202cfdb7');\n",
              "          const dataTable =\n",
              "            await google.colab.kernel.invokeFunction('convertToInteractive',\n",
              "                                                     [key], {});\n",
              "          if (!dataTable) return;\n",
              "\n",
              "          const docLinkHtml = 'Like what you see? Visit the ' +\n",
              "            '<a target=\"_blank\" href=https://colab.research.google.com/notebooks/data_table.ipynb>data table notebook</a>'\n",
              "            + ' to learn more about interactive tables.';\n",
              "          element.innerHTML = '';\n",
              "          dataTable['output_type'] = 'display_data';\n",
              "          await google.colab.output.renderOutput(dataTable, element);\n",
              "          const docLink = document.createElement('div');\n",
              "          docLink.innerHTML = docLinkHtml;\n",
              "          element.appendChild(docLink);\n",
              "        }\n",
              "      </script>\n",
              "    </div>\n",
              "  </div>\n",
              "  "
            ],
            "text/plain": [
              "        Product id  ...                                        Positioning\n",
              "7593          7594  ...      100% Reconstituted, Convenience - Consumption\n",
              "8338          8339  ...                                 100% Reconstituted\n",
              "8423          8424  ...                                 100% Reconstituted\n",
              "8455          8456  ...  Nectars (25-99% juice), Convenience - Consumpt...\n",
              "8541          8542  ...  Juice Drinks (up to 25% juice), No Additives/P...\n",
              "...            ...  ...                                                ...\n",
              "114653      114654  ...      100% Reconstituted, Convenience - Consumption\n",
              "114655      114656  ...      100% Reconstituted, Convenience - Consumption\n",
              "114657      114658  ...      100% Reconstituted, Convenience - Consumption\n",
              "114659      114660  ...     Ethical - Packaging, Convenience - Consumption\n",
              "114675      114676  ...  Nectars (25-99% juice), No Added Sugar, No Add...\n",
              "\n",
              "[2986 rows x 7 columns]"
            ]
          },
          "metadata": {},
          "execution_count": 20
        }
      ]
    },
    {
      "cell_type": "code",
      "source": [
        "# 10 emerging flavors.\n",
        "Products1['Flavor'].value_counts().nlargest(10)"
      ],
      "metadata": {
        "colab": {
          "base_uri": "https://localhost:8080/"
        },
        "id": "eWQLYBsKdKsP",
        "outputId": "ea95603d-20f9-430c-ae26-ecfb91f54c85"
      },
      "execution_count": null,
      "outputs": [
        {
          "output_type": "execute_result",
          "data": {
            "text/plain": [
              "Unflavored               6662\n",
              "Orange, Not Specified    5809\n",
              "Apple, Red               2986\n",
              "Lemon                    2052\n",
              "Cola                     1884\n",
              "Mango                    1526\n",
              "Pineapple                1219\n",
              "Peach                    1110\n",
              "Fruit, not specified      982\n",
              "Strawberry                969\n",
              "Name: Flavor, dtype: int64"
            ]
          },
          "metadata": {},
          "execution_count": 21
        }
      ]
    },
    {
      "cell_type": "code",
      "source": [
        "import matplotlib.pyplot as plt"
      ],
      "metadata": {
        "id": "vfrzWWAwfbyS"
      },
      "execution_count": null,
      "outputs": []
    },
    {
      "cell_type": "code",
      "source": [
        "# Creating a series of Top 10 emerging flavors.\n",
        "top10_flavors=Products1['Flavor'].value_counts().nlargest(10)"
      ],
      "metadata": {
        "id": "uivr_j1iYzjj"
      },
      "execution_count": null,
      "outputs": []
    },
    {
      "cell_type": "code",
      "source": [
        "# Plotting 10 emerging flavors .   \n",
        "top10_flavors.sort_values(ascending=False, inplace=True)\n",
        "top10_flavors.plot.bar(color=['green', 'red', 'black', 'blue', 'cyan','pink','yellow','purple','tan','gray'])\n",
        "plt.xlabel('Flavors')\n",
        "plt.ylabel('Counts')"
      ],
      "metadata": {
        "colab": {
          "base_uri": "https://localhost:8080/",
          "height": 396
        },
        "id": "nicrSO14YzmF",
        "outputId": "dc962bff-df4e-451c-deb0-7cd51b4eae58"
      },
      "execution_count": null,
      "outputs": [
        {
          "output_type": "execute_result",
          "data": {
            "text/plain": [
              "Text(0, 0.5, 'Counts')"
            ]
          },
          "metadata": {},
          "execution_count": 24
        },
        {
          "output_type": "display_data",
          "data": {
            "image/png": "[encoded data removed]",
            "text/plain": [
              "<Figure size 432x288 with 1 Axes>"
            ]
          },
          "metadata": {
            "needs_background": "light"
          }
        }
      ]
    },
    {
      "cell_type": "code",
      "source": [
        ""
      ],
      "metadata": {
        "id": "jxuIvbODZOcO"
      },
      "execution_count": null,
      "outputs": []
    },
    {
      "cell_type": "code",
      "source": [
        "# Products2['Flavor'] = np.where(Products2[Products2['Flavor'] =='Orange, not specified']['Market Subcategory']==Products2[Products2['Flavor'] =='Orange, Not specified']['Market Subcategory'], 'Orange, Not Specified',Products2['Flavor'])"
      ],
      "metadata": {
        "id": "KGbvBtDFbDjA"
      },
      "execution_count": null,
      "outputs": []
    },
    {
      "cell_type": "code",
      "source": [
        ""
      ],
      "metadata": {
        "id": "hZOY6xweZi6D"
      },
      "execution_count": null,
      "outputs": []
    },
    {
      "cell_type": "code",
      "source": [
        ""
      ],
      "metadata": {
        "id": "q7MyxKiUnig4"
      },
      "execution_count": null,
      "outputs": []
    },
    {
      "cell_type": "code",
      "source": [
        ""
      ],
      "metadata": {
        "id": "_KgM33eGnikA"
      },
      "execution_count": null,
      "outputs": []
    },
    {
      "cell_type": "code",
      "source": [
        "# Products under Unflavored category.\n",
        "Products1[Products1['Flavor']=='Unflavored']['Market Subcategory'].value_counts()"
      ],
      "metadata": {
        "colab": {
          "base_uri": "https://localhost:8080/"
        },
        "id": "9mGVgZgCXnk4",
        "outputId": "c1a65d26-cd28-4490-8fa2-cfa5cc29cb25"
      },
      "execution_count": null,
      "outputs": [
        {
          "output_type": "execute_result",
          "data": {
            "text/plain": [
              "Bottled Water - Unflavoured    3745\n",
              "Energy Drinks                  1297\n",
              "Carbonates                      794\n",
              "Drink Concentrates & Mixes      275\n",
              "Other Soft Drinks               250\n",
              "Sports Drinks RTD               174\n",
              "Juice & Juice Drinks             93\n",
              "Sports Powders                   17\n",
              "Bottled Water - Flavoured        11\n",
              "Iced Tea                          6\n",
              "Name: Market Subcategory, dtype: int64"
            ]
          },
          "metadata": {},
          "execution_count": 26
        }
      ]
    },
    {
      "cell_type": "code",
      "source": [
        "# Dataframe to store the Iced Tea products.\n",
        "Iced_tea=Products1[Products1['Market Subcategory']=='Iced Tea']"
      ],
      "metadata": {
        "id": "R57gCW1DUrQi"
      },
      "execution_count": null,
      "outputs": []
    },
    {
      "cell_type": "code",
      "source": [
        "Iced_tea.head()"
      ],
      "metadata": {
        "colab": {
          "base_uri": "https://localhost:8080/",
          "height": 206
        },
        "id": "8bs_Bmd7f2fv",
        "outputId": "108be17e-ba2e-4c66-b2f9-6a60dd1d7a22"
      },
      "execution_count": null,
      "outputs": [
        {
          "output_type": "execute_result",
          "data": {
            "text/html": [
              "\n",
              "  <div id=\"df-d7dab0a4-af48-4921-8ac7-bc2b20429769\">\n",
              "    <div class=\"colab-df-container\">\n",
              "      <div>\n",
              "<style scoped>\n",
              "    .dataframe tbody tr th:only-of-type {\n",
              "        vertical-align: middle;\n",
              "    }\n",
              "\n",
              "    .dataframe tbody tr th {\n",
              "        vertical-align: top;\n",
              "    }\n",
              "\n",
              "    .dataframe thead th {\n",
              "        text-align: right;\n",
              "    }\n",
              "</style>\n",
              "<table border=\"1\" class=\"dataframe\">\n",
              "  <thead>\n",
              "    <tr style=\"text-align: right;\">\n",
              "      <th></th>\n",
              "      <th>Product id</th>\n",
              "      <th>Flavor</th>\n",
              "      <th>Market Subcategory</th>\n",
              "      <th>Launch Date</th>\n",
              "      <th>Country</th>\n",
              "      <th>Region</th>\n",
              "      <th>Positioning</th>\n",
              "    </tr>\n",
              "  </thead>\n",
              "  <tbody>\n",
              "    <tr>\n",
              "      <th>8175</th>\n",
              "      <td>8176</td>\n",
              "      <td>Raspberry, not specified; Lime</td>\n",
              "      <td>Iced Tea</td>\n",
              "      <td>2005-01-01</td>\n",
              "      <td>LA12</td>\n",
              "      <td>Latin America</td>\n",
              "      <td>Dry, Kosher, Low Calorie, Sugar Free, Antioxidant</td>\n",
              "    </tr>\n",
              "    <tr>\n",
              "      <th>8268</th>\n",
              "      <td>8269</td>\n",
              "      <td>Tea, not specified; Peach</td>\n",
              "      <td>Iced Tea</td>\n",
              "      <td>2005-01-01</td>\n",
              "      <td>WE1</td>\n",
              "      <td>West Europe</td>\n",
              "      <td>NaN</td>\n",
              "    </tr>\n",
              "    <tr>\n",
              "      <th>8621</th>\n",
              "      <td>8622</td>\n",
              "      <td>Tea, green; Lemon</td>\n",
              "      <td>Iced Tea</td>\n",
              "      <td>2005-01-01</td>\n",
              "      <td>WE12</td>\n",
              "      <td>West Europe</td>\n",
              "      <td>Ethical - Packaging, Convenience - Consumption...</td>\n",
              "    </tr>\n",
              "    <tr>\n",
              "      <th>8664</th>\n",
              "      <td>8665</td>\n",
              "      <td>Tea, not specified; Peach</td>\n",
              "      <td>Iced Tea</td>\n",
              "      <td>2005-01-01</td>\n",
              "      <td>WE1</td>\n",
              "      <td>West Europe</td>\n",
              "      <td>NaN</td>\n",
              "    </tr>\n",
              "    <tr>\n",
              "      <th>9340</th>\n",
              "      <td>9341</td>\n",
              "      <td>Tea, not specified; Lemon</td>\n",
              "      <td>Iced Tea</td>\n",
              "      <td>2005-01-01</td>\n",
              "      <td>WE9</td>\n",
              "      <td>West Europe</td>\n",
              "      <td>Dry, Convenience - Packaging</td>\n",
              "    </tr>\n",
              "  </tbody>\n",
              "</table>\n",
              "</div>\n",
              "      <button class=\"colab-df-convert\" onclick=\"convertToInteractive('df-d7dab0a4-af48-4921-8ac7-bc2b20429769')\"\n",
              "              title=\"Convert this dataframe to an interactive table.\"\n",
              "              style=\"display:none;\">\n",
              "        \n",
              "  <svg xmlns=\"http://www.w3.org/2000/svg\" height=\"24px\"viewBox=\"0 0 24 24\"\n",
              "       width=\"24px\">\n",
              "    <path d=\"M0 0h24v24H0V0z\" fill=\"none\"/>\n",
              "    <path d=\"M18.56 5.44l.94 2.06.94-2.06 2.06-.94-2.06-.94-.94-2.06-.94 2.06-2.06.94zm-11 1L8.5 8.5l.94-2.06 2.06-.94-2.06-.94L8.5 2.5l-.94 2.06-2.06.94zm10 10l.94 2.06.94-2.06 2.06-.94-2.06-.94-.94-2.06-.94 2.06-2.06.94z\"/><path d=\"M17.41 7.96l-1.37-1.37c-.4-.4-.92-.59-1.43-.59-.52 0-1.04.2-1.43.59L10.3 9.45l-7.72 7.72c-.78.78-.78 2.05 0 2.83L4 21.41c.39.39.9.59 1.41.59.51 0 1.02-.2 1.41-.59l7.78-7.78 2.81-2.81c.8-.78.8-2.07 0-2.86zM5.41 20L4 18.59l7.72-7.72 1.47 1.35L5.41 20z\"/>\n",
              "  </svg>\n",
              "      </button>\n",
              "      \n",
              "  <style>\n",
              "    .colab-df-container {\n",
              "      display:flex;\n",
              "      flex-wrap:wrap;\n",
              "      gap: 12px;\n",
              "    }\n",
              "\n",
              "    .colab-df-convert {\n",
              "      background-color: #E8F0FE;\n",
              "      border: none;\n",
              "      border-radius: 50%;\n",
              "      cursor: pointer;\n",
              "      display: none;\n",
              "      fill: #1967D2;\n",
              "      height: 32px;\n",
              "      padding: 0 0 0 0;\n",
              "      width: 32px;\n",
              "    }\n",
              "\n",
              "    .colab-df-convert:hover {\n",
              "      background-color: #E2EBFA;\n",
              "      box-shadow: 0px 1px 2px rgba(60, 64, 67, 0.3), 0px 1px 3px 1px rgba(60, 64, 67, 0.15);\n",
              "      fill: #174EA6;\n",
              "    }\n",
              "\n",
              "    [theme=dark] .colab-df-convert {\n",
              "      background-color: #3B4455;\n",
              "      fill: #D2E3FC;\n",
              "    }\n",
              "\n",
              "    [theme=dark] .colab-df-convert:hover {\n",
              "      background-color: #434B5C;\n",
              "      box-shadow: 0px 1px 3px 1px rgba(0, 0, 0, 0.15);\n",
              "      filter: drop-shadow(0px 1px 2px rgba(0, 0, 0, 0.3));\n",
              "      fill: #FFFFFF;\n",
              "    }\n",
              "  </style>\n",
              "\n",
              "      <script>\n",
              "        const buttonEl =\n",
              "          document.querySelector('#df-d7dab0a4-af48-4921-8ac7-bc2b20429769 button.colab-df-convert');\n",
              "        buttonEl.style.display =\n",
              "          google.colab.kernel.accessAllowed ? 'block' : 'none';\n",
              "\n",
              "        async function convertToInteractive(key) {\n",
              "          const element = document.querySelector('#df-d7dab0a4-af48-4921-8ac7-bc2b20429769');\n",
              "          const dataTable =\n",
              "            await google.colab.kernel.invokeFunction('convertToInteractive',\n",
              "                                                     [key], {});\n",
              "          if (!dataTable) return;\n",
              "\n",
              "          const docLinkHtml = 'Like what you see? Visit the ' +\n",
              "            '<a target=\"_blank\" href=https://colab.research.google.com/notebooks/data_table.ipynb>data table notebook</a>'\n",
              "            + ' to learn more about interactive tables.';\n",
              "          element.innerHTML = '';\n",
              "          dataTable['output_type'] = 'display_data';\n",
              "          await google.colab.output.renderOutput(dataTable, element);\n",
              "          const docLink = document.createElement('div');\n",
              "          docLink.innerHTML = docLinkHtml;\n",
              "          element.appendChild(docLink);\n",
              "        }\n",
              "      </script>\n",
              "    </div>\n",
              "  </div>\n",
              "  "
            ],
            "text/plain": [
              "      Product id  ...                                        Positioning\n",
              "8175        8176  ...  Dry, Kosher, Low Calorie, Sugar Free, Antioxidant\n",
              "8268        8269  ...                                                NaN\n",
              "8621        8622  ...  Ethical - Packaging, Convenience - Consumption...\n",
              "8664        8665  ...                                                NaN\n",
              "9340        9341  ...                       Dry, Convenience - Packaging\n",
              "\n",
              "[5 rows x 7 columns]"
            ]
          },
          "metadata": {},
          "execution_count": 28
        }
      ]
    },
    {
      "cell_type": "code",
      "source": [
        "Iced_tea.shape"
      ],
      "metadata": {
        "colab": {
          "base_uri": "https://localhost:8080/"
        },
        "id": "SN2dZFyNUE-p",
        "outputId": "fec5d465-cea7-4849-8c0c-a8a5b1d8f6cf"
      },
      "execution_count": null,
      "outputs": [
        {
          "output_type": "execute_result",
          "data": {
            "text/plain": [
              "(6503, 7)"
            ]
          },
          "metadata": {},
          "execution_count": 29
        }
      ]
    },
    {
      "cell_type": "code",
      "source": [
        "Iced_tea['Product id'].value_counts()"
      ],
      "metadata": {
        "colab": {
          "base_uri": "https://localhost:8080/"
        },
        "id": "GcyvxVXqf2iW",
        "outputId": "300ebf0c-11ca-4fe4-f87b-62c3fb2be0f1"
      },
      "execution_count": null,
      "outputs": [
        {
          "output_type": "execute_result",
          "data": {
            "text/plain": [
              "74373     1\n",
              "85451     1\n",
              "93615     1\n",
              "103864    1\n",
              "85435     1\n",
              "         ..\n",
              "90921     1\n",
              "108116    1\n",
              "106955    1\n",
              "99117     1\n",
              "89635     1\n",
              "Name: Product id, Length: 6503, dtype: int64"
            ]
          },
          "metadata": {},
          "execution_count": 30
        }
      ]
    },
    {
      "cell_type": "markdown",
      "source": [
        "**There are 6503 unique products available under the \"Iced Tea\" Market Subcategory.**"
      ],
      "metadata": {
        "id": "qTASSmMjZ_dl"
      }
    },
    {
      "cell_type": "code",
      "source": [
        "Iced_tea.groupby('Market Subcategory')['Flavor'].value_counts()"
      ],
      "metadata": {
        "colab": {
          "base_uri": "https://localhost:8080/"
        },
        "id": "A-L1KBoSPmu3",
        "outputId": "31a688b4-87fb-4f28-c830-497861aa8b22"
      },
      "execution_count": null,
      "outputs": [
        {
          "output_type": "execute_result",
          "data": {
            "text/plain": [
              "Market Subcategory  Flavor                                                 \n",
              "Iced Tea            Tea, Green                                                 272\n",
              "                    Tea, Not specified; Lemon                                  205\n",
              "                    Tea, not specified; Lemon                                  187\n",
              "                    Tea, green                                                 161\n",
              "                    Tea, not specified; Peach                                  156\n",
              "                                                                              ... \n",
              "                    Vanilla, Not specified; Tea, Assam; Milk, Not specified      1\n",
              "                    Vanilla, Not specified; Tea, Chai                            1\n",
              "                    Vanilla, Not specified; Tea, Not specified                   1\n",
              "                    Watermelon                                                   1\n",
              "                    Wheat, Not specified; Tea, Not specified                     1\n",
              "Name: Flavor, Length: 2113, dtype: int64"
            ]
          },
          "metadata": {},
          "execution_count": 31
        }
      ]
    },
    {
      "cell_type": "markdown",
      "source": [
        "**There are totally 2113 flavors available under the Iced Tea category.**"
      ],
      "metadata": {
        "id": "-v0CZLsCtKyn"
      }
    },
    {
      "cell_type": "code",
      "source": [
        "# Top 20 flavors available under \"Iced Tea\" market subcateory.\n",
        "Iced_tea.groupby('Market Subcategory')['Flavor'].value_counts().nlargest(20)"
      ],
      "metadata": {
        "colab": {
          "base_uri": "https://localhost:8080/"
        },
        "id": "x_IpevjaPmxe",
        "outputId": "c12e0e53-c70a-49d5-f977-2be7bd23124c"
      },
      "execution_count": null,
      "outputs": [
        {
          "output_type": "execute_result",
          "data": {
            "text/plain": [
              "Market Subcategory  Flavor                   \n",
              "Iced Tea            Tea, Green                   272\n",
              "                    Tea, Not specified; Lemon    205\n",
              "                    Tea, not specified; Lemon    187\n",
              "                    Tea, green                   161\n",
              "                    Tea, not specified; Peach    156\n",
              "                    Tea, Not specified           154\n",
              "                    Tea, Not specified; Peach    149\n",
              "                    Tea, Black; Lemon            106\n",
              "                    Tea, Green; Lemon             95\n",
              "                    Tea, not specified            85\n",
              "                    Tea, Black                    80\n",
              "                    Tea, Black; Peach             76\n",
              "                    Tea, green; Lemon             66\n",
              "                    Tea, Not Specified            64\n",
              "                    Tea, Not Specified; Lemon     59\n",
              "                    Tea, oolong                   58\n",
              "                    Tea, Herbal                   57\n",
              "                    Tea, Oolong                   56\n",
              "                    Tea, Jasmine                  54\n",
              "                    Tea, black; Lemon             52\n",
              "Name: Flavor, dtype: int64"
            ]
          },
          "metadata": {},
          "execution_count": 32
        }
      ]
    },
    {
      "cell_type": "code",
      "source": [
        "# Plotting Top 20 Iced Tea flavored products.\n",
        "Iced_tea.groupby('Market Subcategory')['Flavor'].value_counts().nlargest(20).plot.bar()\n",
        "plt.ylabel('Count')"
      ],
      "metadata": {
        "colab": {
          "base_uri": "https://localhost:8080/",
          "height": 470
        },
        "id": "cdkLBvSzf2k9",
        "outputId": "8555da42-c57b-4543-cd3f-ba54194eeca0"
      },
      "execution_count": null,
      "outputs": [
        {
          "output_type": "execute_result",
          "data": {
            "text/plain": [
              "Text(0, 0.5, 'Count')"
            ]
          },
          "metadata": {},
          "execution_count": 33
        },
        {
          "output_type": "display_data",
          "data": {
            "image/png": "[encoded data removed]",
            "text/plain": [
              "<Figure size 432x288 with 1 Axes>"
            ]
          },
          "metadata": {
            "needs_background": "light"
          }
        }
      ]
    },
    {
      "cell_type": "code",
      "source": [
        "# Least 20 products under Iced Tea category.\n",
        "Iced_tea.groupby('Market Subcategory')['Flavor'].value_counts().nsmallest(20)\n"
      ],
      "metadata": {
        "colab": {
          "base_uri": "https://localhost:8080/"
        },
        "id": "CNAEDyDSXkij",
        "outputId": "7583cfb8-2b21-476a-d6dc-698af3fae2b6"
      },
      "execution_count": null,
      "outputs": [
        {
          "output_type": "execute_result",
          "data": {
            "text/plain": [
              "Market Subcategory  Flavor                                             \n",
              "Iced Tea            Aloe Vera                                              1\n",
              "                    Aloe Vera; Tea, green                                  1\n",
              "                    Apple, Green; Apple, Red; Apple, Golden                1\n",
              "                    Apple, Green; Tea, Black                               1\n",
              "                    Apple, Green; Tea, Green                               1\n",
              "                    Apple, Green; Tea, Not specified                       1\n",
              "                    Apple, Red; Apricot                                    1\n",
              "                    Apple, Red; Citrus, Not specified; Tea, Green          1\n",
              "                    Apple, Red; Honey                                      1\n",
              "                    Apple, Red; Milk, Not Specified                        1\n",
              "                    Apple, Red; Mint, Not Specified; Ginger                1\n",
              "                    Apple, Red; Mint, Not specified; Tea, Not specified    1\n",
              "                    Apple, Red; Peach                                      1\n",
              "                    Apple, Red; Pear; Burdock                              1\n",
              "                    Apple, Red; Pear; Tea, Green                           1\n",
              "                    Apple, Red; Tea, Chamomile                             1\n",
              "                    Apple, Red; Tea, Matcha; Tea, Green                    1\n",
              "                    Apple, green; Cinnamon; Ginseng, not specified         1\n",
              "                    Apple, red; Cinnamon                                   1\n",
              "                    Apricot                                                1\n",
              "Name: Flavor, dtype: int64"
            ]
          },
          "metadata": {},
          "execution_count": 34
        }
      ]
    },
    {
      "cell_type": "code",
      "source": [
        "# Plotting Least 20 products under Iced Tea category.\n",
        "Iced_tea.groupby('Market Subcategory')['Flavor'].value_counts().nsmallest(20).plot.bar()\n",
        "plt.ylabel('Count')"
      ],
      "metadata": {
        "colab": {
          "base_uri": "https://localhost:8080/",
          "height": 589
        },
        "id": "g9LdVhu_XklL",
        "outputId": "2308e6ee-f9a4-4dd6-af52-136c539b3748"
      },
      "execution_count": null,
      "outputs": [
        {
          "output_type": "execute_result",
          "data": {
            "text/plain": [
              "Text(0, 0.5, 'Count')"
            ]
          },
          "metadata": {},
          "execution_count": 35
        },
        {
          "output_type": "display_data",
          "data": {
            "image/png": "[encoded data removed]",
            "text/plain": [
              "<Figure size 432x288 with 1 Axes>"
            ]
          },
          "metadata": {
            "needs_background": "light"
          }
        }
      ]
    },
    {
      "cell_type": "code",
      "source": [
        ""
      ],
      "metadata": {
        "id": "izB0EcgaXkn4"
      },
      "execution_count": null,
      "outputs": []
    },
    {
      "cell_type": "code",
      "source": [
        ""
      ],
      "metadata": {
        "id": "mNl6ghF3jrD6"
      },
      "execution_count": null,
      "outputs": []
    },
    {
      "cell_type": "code",
      "source": [
        ""
      ],
      "metadata": {
        "id": "BfzklC_xjrGz"
      },
      "execution_count": null,
      "outputs": []
    },
    {
      "cell_type": "code",
      "source": [
        ""
      ],
      "metadata": {
        "id": "Vafkf-NrjrJw"
      },
      "execution_count": null,
      "outputs": []
    }
  ]
}