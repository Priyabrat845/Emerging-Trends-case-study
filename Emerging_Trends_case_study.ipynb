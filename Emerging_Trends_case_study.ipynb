{
  "nbformat": 4,
  "nbformat_minor": 0,
  "metadata": {
    "colab": {
      "name": " Emerging Trends case study.ipynb",
      "provenance": [],
      "collapsed_sections": [],
      "mount_file_id": "1ZBaD59fNjWe_lb9F6S9xYoQmYCtULRgB",
      "authorship_tag": "ABX9TyPPJFBXUPNnXoN5ZCI+KUmJ",
      "include_colab_link": true
    },
    "kernelspec": {
      "name": "python3",
      "display_name": "Python 3"
    },
    "language_info": {
      "name": "python"
    }
  },
  "cells": [
    {
      "cell_type": "markdown",
      "metadata": {
        "id": "view-in-github",
        "colab_type": "text"
      },
      "source": [
        "<a href=\"https://colab.research.google.com/github/Priyabrat845/Emerging-Trends-case-study/blob/main/Emerging_Trends_case_study.ipynb\" target=\"_parent\"><img src=\"https://colab.research.google.com/assets/colab-badge.svg\" alt=\"Open In Colab\"/></a>"
      ]
    },
    {
      "cell_type": "markdown",
      "source": [
        "# **Emerging F&B Trends case study**\n",
        "\n",
        "---\n",
        "\n"
      ],
      "metadata": {
        "id": "czTL-yGy_XkQ"
      }
    },
    {
      "cell_type": "code",
      "execution_count": 1,
      "metadata": {
        "id": "evZzFaG0A2X7"
      },
      "outputs": [],
      "source": [
        "#Importing libraries. \n",
        "import pandas as pd "
      ]
    },
    {
      "cell_type": "code",
      "source": [
        "# Importing dataset.\n",
        "Products=pd.read_excel('/content/drive/MyDrive/Almabetter/Product Launch Dataset.xlsm')"
      ],
      "metadata": {
        "id": "ClALcMGnA6F4"
      },
      "execution_count": 2,
      "outputs": []
    },
    {
      "cell_type": "code",
      "source": [
        "Products.head()"
      ],
      "metadata": {
        "id": "ykmtQnn4A6Ir",
        "colab": {
          "base_uri": "https://localhost:8080/",
          "height": 206
        },
        "outputId": "38f2fa3e-4a65-4942-e0b7-57452764f795"
      },
      "execution_count": 3,
      "outputs": [
        {
          "output_type": "execute_result",
          "data": {
            "text/html": [
              "\n",
              "  <div id=\"df-74e41ab5-aaf0-4118-869a-7f2d8b9f3c7a\">\n",
              "    <div class=\"colab-df-container\">\n",
              "      <div>\n",
              "<style scoped>\n",
              "    .dataframe tbody tr th:only-of-type {\n",
              "        vertical-align: middle;\n",
              "    }\n",
              "\n",
              "    .dataframe tbody tr th {\n",
              "        vertical-align: top;\n",
              "    }\n",
              "\n",
              "    .dataframe thead th {\n",
              "        text-align: right;\n",
              "    }\n",
              "</style>\n",
              "<table border=\"1\" class=\"dataframe\">\n",
              "  <thead>\n",
              "    <tr style=\"text-align: right;\">\n",
              "      <th></th>\n",
              "      <th>Product id</th>\n",
              "      <th>Flavor</th>\n",
              "      <th>Market Subcategory</th>\n",
              "      <th>Launch Date</th>\n",
              "      <th>Country</th>\n",
              "      <th>Region</th>\n",
              "      <th>Positioning</th>\n",
              "    </tr>\n",
              "  </thead>\n",
              "  <tbody>\n",
              "    <tr>\n",
              "      <th>0</th>\n",
              "      <td>1</td>\n",
              "      <td>Herbs, not specified; Fruit, not specified</td>\n",
              "      <td>Other Soft Drinks</td>\n",
              "      <td>2001-01-01</td>\n",
              "      <td>WE1</td>\n",
              "      <td>West Europe</td>\n",
              "      <td>Low Calorie, Natural</td>\n",
              "    </tr>\n",
              "    <tr>\n",
              "      <th>1</th>\n",
              "      <td>2</td>\n",
              "      <td>Fruit, not specified</td>\n",
              "      <td>Carbonates</td>\n",
              "      <td>2001-01-01</td>\n",
              "      <td>WE2</td>\n",
              "      <td>West Europe</td>\n",
              "      <td>Convenience - Consumption</td>\n",
              "    </tr>\n",
              "    <tr>\n",
              "      <th>2</th>\n",
              "      <td>3</td>\n",
              "      <td>Lemon; Honey; Ginger</td>\n",
              "      <td>Juice &amp; Juice Drinks</td>\n",
              "      <td>2001-01-01</td>\n",
              "      <td>WE2</td>\n",
              "      <td>West Europe</td>\n",
              "      <td>100% Not from Concentrate, Convenience - Consu...</td>\n",
              "    </tr>\n",
              "    <tr>\n",
              "      <th>3</th>\n",
              "      <td>4</td>\n",
              "      <td>Mango; Passion Fruit</td>\n",
              "      <td>Juice &amp; Juice Drinks</td>\n",
              "      <td>2001-01-01</td>\n",
              "      <td>WE2</td>\n",
              "      <td>West Europe</td>\n",
              "      <td>100% Not from Concentrate, Convenience - Consu...</td>\n",
              "    </tr>\n",
              "    <tr>\n",
              "      <th>4</th>\n",
              "      <td>5</td>\n",
              "      <td>Mango</td>\n",
              "      <td>Juice &amp; Juice Drinks</td>\n",
              "      <td>2001-01-01</td>\n",
              "      <td>WE2</td>\n",
              "      <td>West Europe</td>\n",
              "      <td>100% Not from Concentrate, Convenience - Consu...</td>\n",
              "    </tr>\n",
              "  </tbody>\n",
              "</table>\n",
              "</div>\n",
              "      <button class=\"colab-df-convert\" onclick=\"convertToInteractive('df-74e41ab5-aaf0-4118-869a-7f2d8b9f3c7a')\"\n",
              "              title=\"Convert this dataframe to an interactive table.\"\n",
              "              style=\"display:none;\">\n",
              "        \n",
              "  <svg xmlns=\"http://www.w3.org/2000/svg\" height=\"24px\"viewBox=\"0 0 24 24\"\n",
              "       width=\"24px\">\n",
              "    <path d=\"M0 0h24v24H0V0z\" fill=\"none\"/>\n",
              "    <path d=\"M18.56 5.44l.94 2.06.94-2.06 2.06-.94-2.06-.94-.94-2.06-.94 2.06-2.06.94zm-11 1L8.5 8.5l.94-2.06 2.06-.94-2.06-.94L8.5 2.5l-.94 2.06-2.06.94zm10 10l.94 2.06.94-2.06 2.06-.94-2.06-.94-.94-2.06-.94 2.06-2.06.94z\"/><path d=\"M17.41 7.96l-1.37-1.37c-.4-.4-.92-.59-1.43-.59-.52 0-1.04.2-1.43.59L10.3 9.45l-7.72 7.72c-.78.78-.78 2.05 0 2.83L4 21.41c.39.39.9.59 1.41.59.51 0 1.02-.2 1.41-.59l7.78-7.78 2.81-2.81c.8-.78.8-2.07 0-2.86zM5.41 20L4 18.59l7.72-7.72 1.47 1.35L5.41 20z\"/>\n",
              "  </svg>\n",
              "      </button>\n",
              "      \n",
              "  <style>\n",
              "    .colab-df-container {\n",
              "      display:flex;\n",
              "      flex-wrap:wrap;\n",
              "      gap: 12px;\n",
              "    }\n",
              "\n",
              "    .colab-df-convert {\n",
              "      background-color: #E8F0FE;\n",
              "      border: none;\n",
              "      border-radius: 50%;\n",
              "      cursor: pointer;\n",
              "      display: none;\n",
              "      fill: #1967D2;\n",
              "      height: 32px;\n",
              "      padding: 0 0 0 0;\n",
              "      width: 32px;\n",
              "    }\n",
              "\n",
              "    .colab-df-convert:hover {\n",
              "      background-color: #E2EBFA;\n",
              "      box-shadow: 0px 1px 2px rgba(60, 64, 67, 0.3), 0px 1px 3px 1px rgba(60, 64, 67, 0.15);\n",
              "      fill: #174EA6;\n",
              "    }\n",
              "\n",
              "    [theme=dark] .colab-df-convert {\n",
              "      background-color: #3B4455;\n",
              "      fill: #D2E3FC;\n",
              "    }\n",
              "\n",
              "    [theme=dark] .colab-df-convert:hover {\n",
              "      background-color: #434B5C;\n",
              "      box-shadow: 0px 1px 3px 1px rgba(0, 0, 0, 0.15);\n",
              "      filter: drop-shadow(0px 1px 2px rgba(0, 0, 0, 0.3));\n",
              "      fill: #FFFFFF;\n",
              "    }\n",
              "  </style>\n",
              "\n",
              "      <script>\n",
              "        const buttonEl =\n",
              "          document.querySelector('#df-74e41ab5-aaf0-4118-869a-7f2d8b9f3c7a button.colab-df-convert');\n",
              "        buttonEl.style.display =\n",
              "          google.colab.kernel.accessAllowed ? 'block' : 'none';\n",
              "\n",
              "        async function convertToInteractive(key) {\n",
              "          const element = document.querySelector('#df-74e41ab5-aaf0-4118-869a-7f2d8b9f3c7a');\n",
              "          const dataTable =\n",
              "            await google.colab.kernel.invokeFunction('convertToInteractive',\n",
              "                                                     [key], {});\n",
              "          if (!dataTable) return;\n",
              "\n",
              "          const docLinkHtml = 'Like what you see? Visit the ' +\n",
              "            '<a target=\"_blank\" href=https://colab.research.google.com/notebooks/data_table.ipynb>data table notebook</a>'\n",
              "            + ' to learn more about interactive tables.';\n",
              "          element.innerHTML = '';\n",
              "          dataTable['output_type'] = 'display_data';\n",
              "          await google.colab.output.renderOutput(dataTable, element);\n",
              "          const docLink = document.createElement('div');\n",
              "          docLink.innerHTML = docLinkHtml;\n",
              "          element.appendChild(docLink);\n",
              "        }\n",
              "      </script>\n",
              "    </div>\n",
              "  </div>\n",
              "  "
            ],
            "text/plain": [
              "   Product id  ...                                        Positioning\n",
              "0           1  ...                               Low Calorie, Natural\n",
              "1           2  ...                          Convenience - Consumption\n",
              "2           3  ...  100% Not from Concentrate, Convenience - Consu...\n",
              "3           4  ...  100% Not from Concentrate, Convenience - Consu...\n",
              "4           5  ...  100% Not from Concentrate, Convenience - Consu...\n",
              "\n",
              "[5 rows x 7 columns]"
            ]
          },
          "metadata": {},
          "execution_count": 3
        }
      ]
    },
    {
      "cell_type": "code",
      "source": [
        "Products.shape"
      ],
      "metadata": {
        "id": "MJtwcweHA6K9",
        "colab": {
          "base_uri": "https://localhost:8080/"
        },
        "outputId": "dba52e13-1648-4699-a8b0-49b5f95692d2"
      },
      "execution_count": 4,
      "outputs": [
        {
          "output_type": "execute_result",
          "data": {
            "text/plain": [
              "(114689, 7)"
            ]
          },
          "metadata": {},
          "execution_count": 4
        }
      ]
    },
    {
      "cell_type": "code",
      "source": [
        "Products.dtypes"
      ],
      "metadata": {
        "colab": {
          "base_uri": "https://localhost:8080/"
        },
        "id": "3qeOJ5_fzUmA",
        "outputId": "c55c240d-488e-4f47-dda0-490a095b17a9"
      },
      "execution_count": 5,
      "outputs": [
        {
          "output_type": "execute_result",
          "data": {
            "text/plain": [
              "Product id                     int64\n",
              "Flavor                        object\n",
              "Market Subcategory            object\n",
              "Launch Date           datetime64[ns]\n",
              "Country                       object\n",
              "Region                        object\n",
              "Positioning                   object\n",
              "dtype: object"
            ]
          },
          "metadata": {},
          "execution_count": 5
        }
      ]
    },
    {
      "cell_type": "code",
      "source": [
        "Products['Launch Date'].max()"
      ],
      "metadata": {
        "colab": {
          "base_uri": "https://localhost:8080/"
        },
        "id": "MepxuinJy5QZ",
        "outputId": "7ea65762-78de-4f20-9cea-4f64a96a7c08"
      },
      "execution_count": 6,
      "outputs": [
        {
          "output_type": "execute_result",
          "data": {
            "text/plain": [
              "Timestamp('2010-01-01 00:00:00')"
            ]
          },
          "metadata": {},
          "execution_count": 6
        }
      ]
    },
    {
      "cell_type": "code",
      "source": [
        "Products1=Products[Products['Launch Date']>='2005-01-01']"
      ],
      "metadata": {
        "id": "RZ8Y6M8R0m28"
      },
      "execution_count": 7,
      "outputs": []
    },
    {
      "cell_type": "code",
      "source": [
        "Products1.head(5)"
      ],
      "metadata": {
        "colab": {
          "base_uri": "https://localhost:8080/",
          "height": 206
        },
        "id": "4X5HrYqpUrLD",
        "outputId": "48bf0d51-add0-4cc6-93e5-367b741dc84c"
      },
      "execution_count": 8,
      "outputs": [
        {
          "output_type": "execute_result",
          "data": {
            "text/html": [
              "\n",
              "  <div id=\"df-d432c548-9b02-4394-9b55-8dc84e5e4f0c\">\n",
              "    <div class=\"colab-df-container\">\n",
              "      <div>\n",
              "<style scoped>\n",
              "    .dataframe tbody tr th:only-of-type {\n",
              "        vertical-align: middle;\n",
              "    }\n",
              "\n",
              "    .dataframe tbody tr th {\n",
              "        vertical-align: top;\n",
              "    }\n",
              "\n",
              "    .dataframe thead th {\n",
              "        text-align: right;\n",
              "    }\n",
              "</style>\n",
              "<table border=\"1\" class=\"dataframe\">\n",
              "  <thead>\n",
              "    <tr style=\"text-align: right;\">\n",
              "      <th></th>\n",
              "      <th>Product id</th>\n",
              "      <th>Flavor</th>\n",
              "      <th>Market Subcategory</th>\n",
              "      <th>Launch Date</th>\n",
              "      <th>Country</th>\n",
              "      <th>Region</th>\n",
              "      <th>Positioning</th>\n",
              "    </tr>\n",
              "  </thead>\n",
              "  <tbody>\n",
              "    <tr>\n",
              "      <th>13</th>\n",
              "      <td>14</td>\n",
              "      <td>Apple, red; Apricot</td>\n",
              "      <td>Juice &amp; Juice Drinks</td>\n",
              "      <td>2005-01-01</td>\n",
              "      <td>WE3</td>\n",
              "      <td>West Europe</td>\n",
              "      <td>Nectars (25-99% juice), Convenience - Easy-to-...</td>\n",
              "    </tr>\n",
              "    <tr>\n",
              "      <th>7593</th>\n",
              "      <td>7594</td>\n",
              "      <td>Apple, Red</td>\n",
              "      <td>Juice &amp; Juice Drinks</td>\n",
              "      <td>2005-01-01</td>\n",
              "      <td>ME4</td>\n",
              "      <td>Middle East</td>\n",
              "      <td>100% Reconstituted, Convenience - Consumption</td>\n",
              "    </tr>\n",
              "    <tr>\n",
              "      <th>7628</th>\n",
              "      <td>7629</td>\n",
              "      <td>Mango; Passion Fruit</td>\n",
              "      <td>Juice &amp; Juice Drinks</td>\n",
              "      <td>2005-01-01</td>\n",
              "      <td>ME4</td>\n",
              "      <td>Middle East</td>\n",
              "      <td>Juice Drinks (up to 25% juice)</td>\n",
              "    </tr>\n",
              "    <tr>\n",
              "      <th>7636</th>\n",
              "      <td>7637</td>\n",
              "      <td>Unflavored</td>\n",
              "      <td>Bottled Water - Unflavoured</td>\n",
              "      <td>2005-01-01</td>\n",
              "      <td>AF5</td>\n",
              "      <td>Africa</td>\n",
              "      <td>Natural</td>\n",
              "    </tr>\n",
              "    <tr>\n",
              "      <th>7637</th>\n",
              "      <td>7638</td>\n",
              "      <td>Unflavored</td>\n",
              "      <td>Bottled Water - Unflavoured</td>\n",
              "      <td>2005-01-01</td>\n",
              "      <td>WE2</td>\n",
              "      <td>West Europe</td>\n",
              "      <td>NaN</td>\n",
              "    </tr>\n",
              "  </tbody>\n",
              "</table>\n",
              "</div>\n",
              "      <button class=\"colab-df-convert\" onclick=\"convertToInteractive('df-d432c548-9b02-4394-9b55-8dc84e5e4f0c')\"\n",
              "              title=\"Convert this dataframe to an interactive table.\"\n",
              "              style=\"display:none;\">\n",
              "        \n",
              "  <svg xmlns=\"http://www.w3.org/2000/svg\" height=\"24px\"viewBox=\"0 0 24 24\"\n",
              "       width=\"24px\">\n",
              "    <path d=\"M0 0h24v24H0V0z\" fill=\"none\"/>\n",
              "    <path d=\"M18.56 5.44l.94 2.06.94-2.06 2.06-.94-2.06-.94-.94-2.06-.94 2.06-2.06.94zm-11 1L8.5 8.5l.94-2.06 2.06-.94-2.06-.94L8.5 2.5l-.94 2.06-2.06.94zm10 10l.94 2.06.94-2.06 2.06-.94-2.06-.94-.94-2.06-.94 2.06-2.06.94z\"/><path d=\"M17.41 7.96l-1.37-1.37c-.4-.4-.92-.59-1.43-.59-.52 0-1.04.2-1.43.59L10.3 9.45l-7.72 7.72c-.78.78-.78 2.05 0 2.83L4 21.41c.39.39.9.59 1.41.59.51 0 1.02-.2 1.41-.59l7.78-7.78 2.81-2.81c.8-.78.8-2.07 0-2.86zM5.41 20L4 18.59l7.72-7.72 1.47 1.35L5.41 20z\"/>\n",
              "  </svg>\n",
              "      </button>\n",
              "      \n",
              "  <style>\n",
              "    .colab-df-container {\n",
              "      display:flex;\n",
              "      flex-wrap:wrap;\n",
              "      gap: 12px;\n",
              "    }\n",
              "\n",
              "    .colab-df-convert {\n",
              "      background-color: #E8F0FE;\n",
              "      border: none;\n",
              "      border-radius: 50%;\n",
              "      cursor: pointer;\n",
              "      display: none;\n",
              "      fill: #1967D2;\n",
              "      height: 32px;\n",
              "      padding: 0 0 0 0;\n",
              "      width: 32px;\n",
              "    }\n",
              "\n",
              "    .colab-df-convert:hover {\n",
              "      background-color: #E2EBFA;\n",
              "      box-shadow: 0px 1px 2px rgba(60, 64, 67, 0.3), 0px 1px 3px 1px rgba(60, 64, 67, 0.15);\n",
              "      fill: #174EA6;\n",
              "    }\n",
              "\n",
              "    [theme=dark] .colab-df-convert {\n",
              "      background-color: #3B4455;\n",
              "      fill: #D2E3FC;\n",
              "    }\n",
              "\n",
              "    [theme=dark] .colab-df-convert:hover {\n",
              "      background-color: #434B5C;\n",
              "      box-shadow: 0px 1px 3px 1px rgba(0, 0, 0, 0.15);\n",
              "      filter: drop-shadow(0px 1px 2px rgba(0, 0, 0, 0.3));\n",
              "      fill: #FFFFFF;\n",
              "    }\n",
              "  </style>\n",
              "\n",
              "      <script>\n",
              "        const buttonEl =\n",
              "          document.querySelector('#df-d432c548-9b02-4394-9b55-8dc84e5e4f0c button.colab-df-convert');\n",
              "        buttonEl.style.display =\n",
              "          google.colab.kernel.accessAllowed ? 'block' : 'none';\n",
              "\n",
              "        async function convertToInteractive(key) {\n",
              "          const element = document.querySelector('#df-d432c548-9b02-4394-9b55-8dc84e5e4f0c');\n",
              "          const dataTable =\n",
              "            await google.colab.kernel.invokeFunction('convertToInteractive',\n",
              "                                                     [key], {});\n",
              "          if (!dataTable) return;\n",
              "\n",
              "          const docLinkHtml = 'Like what you see? Visit the ' +\n",
              "            '<a target=\"_blank\" href=https://colab.research.google.com/notebooks/data_table.ipynb>data table notebook</a>'\n",
              "            + ' to learn more about interactive tables.';\n",
              "          element.innerHTML = '';\n",
              "          dataTable['output_type'] = 'display_data';\n",
              "          await google.colab.output.renderOutput(dataTable, element);\n",
              "          const docLink = document.createElement('div');\n",
              "          docLink.innerHTML = docLinkHtml;\n",
              "          element.appendChild(docLink);\n",
              "        }\n",
              "      </script>\n",
              "    </div>\n",
              "  </div>\n",
              "  "
            ],
            "text/plain": [
              "      Product id  ...                                        Positioning\n",
              "13            14  ...  Nectars (25-99% juice), Convenience - Easy-to-...\n",
              "7593        7594  ...      100% Reconstituted, Convenience - Consumption\n",
              "7628        7629  ...                     Juice Drinks (up to 25% juice)\n",
              "7636        7637  ...                                            Natural\n",
              "7637        7638  ...                                                NaN\n",
              "\n",
              "[5 rows x 7 columns]"
            ]
          },
          "metadata": {},
          "execution_count": 8
        }
      ]
    },
    {
      "cell_type": "code",
      "source": [
        "Products1['Flavor'].unique()"
      ],
      "metadata": {
        "colab": {
          "base_uri": "https://localhost:8080/"
        },
        "id": "_ET6VnIyOA8j",
        "outputId": "294e5368-bde3-48a6-e465-3aa3f8d03e38"
      },
      "execution_count": 9,
      "outputs": [
        {
          "output_type": "execute_result",
          "data": {
            "text/plain": [
              "array(['Apple, red; Apricot', 'Apple, Red', 'Mango; Passion Fruit', ...,\n",
              "       'Soda; Lemon-Lime', 'Sugar, Cane; Chocolate, Not Specified',\n",
              "       'Tea, Green; Unflavored'], dtype=object)"
            ]
          },
          "metadata": {},
          "execution_count": 9
        }
      ]
    },
    {
      "cell_type": "code",
      "source": [
        "Products1.shape"
      ],
      "metadata": {
        "colab": {
          "base_uri": "https://localhost:8080/"
        },
        "id": "MTqPiTSuUrNq",
        "outputId": "97cd303e-384a-40bd-f871-4165033902c5"
      },
      "execution_count": 10,
      "outputs": [
        {
          "output_type": "execute_result",
          "data": {
            "text/plain": [
              "(82594, 7)"
            ]
          },
          "metadata": {},
          "execution_count": 10
        }
      ]
    },
    {
      "cell_type": "code",
      "source": [
        "Products1['Flavor'].value_counts()"
      ],
      "metadata": {
        "colab": {
          "base_uri": "https://localhost:8080/"
        },
        "id": "4uANqrMzYo9j",
        "outputId": "4d12cff1-0a81-4982-829a-ad9145fc279f"
      },
      "execution_count": 11,
      "outputs": [
        {
          "output_type": "execute_result",
          "data": {
            "text/plain": [
              "Unflavored                                    6662\n",
              "Orange, not specified                         2302\n",
              "Orange, Not specified                         2268\n",
              "Lemon                                         2052\n",
              "Cola                                          1884\n",
              "                                              ... \n",
              "Apple, Red; Cherry, Red; Grape, Red              1\n",
              "Apple, Red; Mango; Cherry, Red                   1\n",
              "Berry, Blueberry; Blackcurrant; Grape, Red       1\n",
              "Strawberry; Vinegar, Not specified               1\n",
              "Tamarind; Herbs, not specified                   1\n",
              "Name: Flavor, Length: 13942, dtype: int64"
            ]
          },
          "metadata": {},
          "execution_count": 11
        }
      ]
    },
    {
      "cell_type": "code",
      "source": [
        "# Top 10 various available products. \n",
        "Products1['Flavor'].value_counts().nlargest(10)"
      ],
      "metadata": {
        "colab": {
          "base_uri": "https://localhost:8080/"
        },
        "id": "wC5C2NrpXniM",
        "outputId": "0c731418-3b79-41fa-ffe2-f3293dd85539"
      },
      "execution_count": 12,
      "outputs": [
        {
          "output_type": "execute_result",
          "data": {
            "text/plain": [
              "Unflavored               6662\n",
              "Orange, not specified    2302\n",
              "Orange, Not specified    2268\n",
              "Lemon                    2052\n",
              "Cola                     1884\n",
              "Apple, Red               1856\n",
              "Mango                    1526\n",
              "Orange, Not Specified    1239\n",
              "Pineapple                1219\n",
              "Apple, red               1130\n",
              "Name: Flavor, dtype: int64"
            ]
          },
          "metadata": {},
          "execution_count": 12
        }
      ]
    },
    {
      "cell_type": "code",
      "source": [
        "# Products under Unflavored category.\n",
        "Products1[Products1['Flavor']=='Unflavored']['Market Subcategory'].value_counts()"
      ],
      "metadata": {
        "colab": {
          "base_uri": "https://localhost:8080/"
        },
        "id": "9mGVgZgCXnk4",
        "outputId": "5ed663dc-aebf-4788-f3fc-5e46e64d3f38"
      },
      "execution_count": 13,
      "outputs": [
        {
          "output_type": "execute_result",
          "data": {
            "text/plain": [
              "Bottled Water - Unflavoured    3745\n",
              "Energy Drinks                  1297\n",
              "Carbonates                      794\n",
              "Drink Concentrates & Mixes      275\n",
              "Other Soft Drinks               250\n",
              "Sports Drinks RTD               174\n",
              "Juice & Juice Drinks             93\n",
              "Sports Powders                   17\n",
              "Bottled Water - Flavoured        11\n",
              "Iced Tea                          6\n",
              "Name: Market Subcategory, dtype: int64"
            ]
          },
          "metadata": {},
          "execution_count": 13
        }
      ]
    },
    {
      "cell_type": "code",
      "source": [
        "top10_flavors=Products1['Flavor'].value_counts().nlargest(10)"
      ],
      "metadata": {
        "id": "uivr_j1iYzjj"
      },
      "execution_count": 14,
      "outputs": []
    },
    {
      "cell_type": "code",
      "source": [
        "import matplotlib.pyplot as plt"
      ],
      "metadata": {
        "id": "vfrzWWAwfbyS"
      },
      "execution_count": 15,
      "outputs": []
    },
    {
      "cell_type": "code",
      "source": [
        "# Plotting top 10 products .   \n",
        "top10_flavors.sort_values(ascending=False, inplace=True)\n",
        "top10_flavors.plot.bar(color=['green', 'red', 'black', 'blue', 'cyan','pink','yellow','purple','tan','gray'])\n",
        "plt.xlabel('Flavors')\n",
        "plt.ylabel('Counts')"
      ],
      "metadata": {
        "colab": {
          "base_uri": "https://localhost:8080/",
          "height": 396
        },
        "id": "nicrSO14YzmF",
        "outputId": "1d4464bf-68d0-47dc-e3ec-45bda171255d"
      },
      "execution_count": 16,
      "outputs": [
        {
          "output_type": "execute_result",
          "data": {
            "text/plain": [
              "Text(0, 0.5, 'Counts')"
            ]
          },
          "metadata": {},
          "execution_count": 16
        },
        {
          "output_type": "display_data",
          "data": {
            "image/png": "[encoded data removed]",
            "text/plain": [
              "<Figure size 432x288 with 1 Axes>"
            ]
          },
          "metadata": {
            "needs_background": "light"
          }
        }
      ]
    },
    {
      "cell_type": "code",
      "source": [
        "type(top10_flavors)"
      ],
      "metadata": {
        "colab": {
          "base_uri": "https://localhost:8080/"
        },
        "id": "y6Vmbrj0YzpC",
        "outputId": "07dbe7f8-a35c-43f5-ea74-ed09bff3f7b5"
      },
      "execution_count": 17,
      "outputs": [
        {
          "output_type": "execute_result",
          "data": {
            "text/plain": [
              "pandas.core.series.Series"
            ]
          },
          "metadata": {},
          "execution_count": 17
        }
      ]
    },
    {
      "cell_type": "code",
      "source": [
        "# Dataframe to store the Iced Tea products.\n",
        "Iced_tea=Products1[Products1['Market Subcategory']=='Iced Tea']"
      ],
      "metadata": {
        "id": "R57gCW1DUrQi"
      },
      "execution_count": 18,
      "outputs": []
    },
    {
      "cell_type": "code",
      "source": [
        "Iced_tea.head()"
      ],
      "metadata": {
        "colab": {
          "base_uri": "https://localhost:8080/",
          "height": 206
        },
        "id": "8bs_Bmd7f2fv",
        "outputId": "91f5b5e6-46c3-4f86-ce87-fb349a1fa738"
      },
      "execution_count": 19,
      "outputs": [
        {
          "output_type": "execute_result",
          "data": {
            "text/html": [
              "\n",
              "  <div id=\"df-498316b1-97e3-4cfe-9fb4-6a90fb6864e6\">\n",
              "    <div class=\"colab-df-container\">\n",
              "      <div>\n",
              "<style scoped>\n",
              "    .dataframe tbody tr th:only-of-type {\n",
              "        vertical-align: middle;\n",
              "    }\n",
              "\n",
              "    .dataframe tbody tr th {\n",
              "        vertical-align: top;\n",
              "    }\n",
              "\n",
              "    .dataframe thead th {\n",
              "        text-align: right;\n",
              "    }\n",
              "</style>\n",
              "<table border=\"1\" class=\"dataframe\">\n",
              "  <thead>\n",
              "    <tr style=\"text-align: right;\">\n",
              "      <th></th>\n",
              "      <th>Product id</th>\n",
              "      <th>Flavor</th>\n",
              "      <th>Market Subcategory</th>\n",
              "      <th>Launch Date</th>\n",
              "      <th>Country</th>\n",
              "      <th>Region</th>\n",
              "      <th>Positioning</th>\n",
              "    </tr>\n",
              "  </thead>\n",
              "  <tbody>\n",
              "    <tr>\n",
              "      <th>8175</th>\n",
              "      <td>8176</td>\n",
              "      <td>Raspberry, not specified; Lime</td>\n",
              "      <td>Iced Tea</td>\n",
              "      <td>2005-01-01</td>\n",
              "      <td>LA12</td>\n",
              "      <td>Latin America</td>\n",
              "      <td>Dry, Kosher, Low Calorie, Sugar Free, Antioxidant</td>\n",
              "    </tr>\n",
              "    <tr>\n",
              "      <th>8268</th>\n",
              "      <td>8269</td>\n",
              "      <td>Tea, not specified; Peach</td>\n",
              "      <td>Iced Tea</td>\n",
              "      <td>2005-01-01</td>\n",
              "      <td>WE1</td>\n",
              "      <td>West Europe</td>\n",
              "      <td>NaN</td>\n",
              "    </tr>\n",
              "    <tr>\n",
              "      <th>8621</th>\n",
              "      <td>8622</td>\n",
              "      <td>Tea, green; Lemon</td>\n",
              "      <td>Iced Tea</td>\n",
              "      <td>2005-01-01</td>\n",
              "      <td>WE12</td>\n",
              "      <td>West Europe</td>\n",
              "      <td>Ethical - Packaging, Convenience - Consumption...</td>\n",
              "    </tr>\n",
              "    <tr>\n",
              "      <th>8664</th>\n",
              "      <td>8665</td>\n",
              "      <td>Tea, not specified; Peach</td>\n",
              "      <td>Iced Tea</td>\n",
              "      <td>2005-01-01</td>\n",
              "      <td>WE1</td>\n",
              "      <td>West Europe</td>\n",
              "      <td>NaN</td>\n",
              "    </tr>\n",
              "    <tr>\n",
              "      <th>9340</th>\n",
              "      <td>9341</td>\n",
              "      <td>Tea, not specified; Lemon</td>\n",
              "      <td>Iced Tea</td>\n",
              "      <td>2005-01-01</td>\n",
              "      <td>WE9</td>\n",
              "      <td>West Europe</td>\n",
              "      <td>Dry, Convenience - Packaging</td>\n",
              "    </tr>\n",
              "  </tbody>\n",
              "</table>\n",
              "</div>\n",
              "      <button class=\"colab-df-convert\" onclick=\"convertToInteractive('df-498316b1-97e3-4cfe-9fb4-6a90fb6864e6')\"\n",
              "              title=\"Convert this dataframe to an interactive table.\"\n",
              "              style=\"display:none;\">\n",
              "        \n",
              "  <svg xmlns=\"http://www.w3.org/2000/svg\" height=\"24px\"viewBox=\"0 0 24 24\"\n",
              "       width=\"24px\">\n",
              "    <path d=\"M0 0h24v24H0V0z\" fill=\"none\"/>\n",
              "    <path d=\"M18.56 5.44l.94 2.06.94-2.06 2.06-.94-2.06-.94-.94-2.06-.94 2.06-2.06.94zm-11 1L8.5 8.5l.94-2.06 2.06-.94-2.06-.94L8.5 2.5l-.94 2.06-2.06.94zm10 10l.94 2.06.94-2.06 2.06-.94-2.06-.94-.94-2.06-.94 2.06-2.06.94z\"/><path d=\"M17.41 7.96l-1.37-1.37c-.4-.4-.92-.59-1.43-.59-.52 0-1.04.2-1.43.59L10.3 9.45l-7.72 7.72c-.78.78-.78 2.05 0 2.83L4 21.41c.39.39.9.59 1.41.59.51 0 1.02-.2 1.41-.59l7.78-7.78 2.81-2.81c.8-.78.8-2.07 0-2.86zM5.41 20L4 18.59l7.72-7.72 1.47 1.35L5.41 20z\"/>\n",
              "  </svg>\n",
              "      </button>\n",
              "      \n",
              "  <style>\n",
              "    .colab-df-container {\n",
              "      display:flex;\n",
              "      flex-wrap:wrap;\n",
              "      gap: 12px;\n",
              "    }\n",
              "\n",
              "    .colab-df-convert {\n",
              "      background-color: #E8F0FE;\n",
              "      border: none;\n",
              "      border-radius: 50%;\n",
              "      cursor: pointer;\n",
              "      display: none;\n",
              "      fill: #1967D2;\n",
              "      height: 32px;\n",
              "      padding: 0 0 0 0;\n",
              "      width: 32px;\n",
              "    }\n",
              "\n",
              "    .colab-df-convert:hover {\n",
              "      background-color: #E2EBFA;\n",
              "      box-shadow: 0px 1px 2px rgba(60, 64, 67, 0.3), 0px 1px 3px 1px rgba(60, 64, 67, 0.15);\n",
              "      fill: #174EA6;\n",
              "    }\n",
              "\n",
              "    [theme=dark] .colab-df-convert {\n",
              "      background-color: #3B4455;\n",
              "      fill: #D2E3FC;\n",
              "    }\n",
              "\n",
              "    [theme=dark] .colab-df-convert:hover {\n",
              "      background-color: #434B5C;\n",
              "      box-shadow: 0px 1px 3px 1px rgba(0, 0, 0, 0.15);\n",
              "      filter: drop-shadow(0px 1px 2px rgba(0, 0, 0, 0.3));\n",
              "      fill: #FFFFFF;\n",
              "    }\n",
              "  </style>\n",
              "\n",
              "      <script>\n",
              "        const buttonEl =\n",
              "          document.querySelector('#df-498316b1-97e3-4cfe-9fb4-6a90fb6864e6 button.colab-df-convert');\n",
              "        buttonEl.style.display =\n",
              "          google.colab.kernel.accessAllowed ? 'block' : 'none';\n",
              "\n",
              "        async function convertToInteractive(key) {\n",
              "          const element = document.querySelector('#df-498316b1-97e3-4cfe-9fb4-6a90fb6864e6');\n",
              "          const dataTable =\n",
              "            await google.colab.kernel.invokeFunction('convertToInteractive',\n",
              "                                                     [key], {});\n",
              "          if (!dataTable) return;\n",
              "\n",
              "          const docLinkHtml = 'Like what you see? Visit the ' +\n",
              "            '<a target=\"_blank\" href=https://colab.research.google.com/notebooks/data_table.ipynb>data table notebook</a>'\n",
              "            + ' to learn more about interactive tables.';\n",
              "          element.innerHTML = '';\n",
              "          dataTable['output_type'] = 'display_data';\n",
              "          await google.colab.output.renderOutput(dataTable, element);\n",
              "          const docLink = document.createElement('div');\n",
              "          docLink.innerHTML = docLinkHtml;\n",
              "          element.appendChild(docLink);\n",
              "        }\n",
              "      </script>\n",
              "    </div>\n",
              "  </div>\n",
              "  "
            ],
            "text/plain": [
              "      Product id  ...                                        Positioning\n",
              "8175        8176  ...  Dry, Kosher, Low Calorie, Sugar Free, Antioxidant\n",
              "8268        8269  ...                                                NaN\n",
              "8621        8622  ...  Ethical - Packaging, Convenience - Consumption...\n",
              "8664        8665  ...                                                NaN\n",
              "9340        9341  ...                       Dry, Convenience - Packaging\n",
              "\n",
              "[5 rows x 7 columns]"
            ]
          },
          "metadata": {},
          "execution_count": 19
        }
      ]
    },
    {
      "cell_type": "code",
      "source": [
        "Iced_tea.shape"
      ],
      "metadata": {
        "colab": {
          "base_uri": "https://localhost:8080/"
        },
        "id": "SN2dZFyNUE-p",
        "outputId": "a02f7ba6-38e9-4610-ab55-f8a947738003"
      },
      "execution_count": 20,
      "outputs": [
        {
          "output_type": "execute_result",
          "data": {
            "text/plain": [
              "(6503, 7)"
            ]
          },
          "metadata": {},
          "execution_count": 20
        }
      ]
    },
    {
      "cell_type": "code",
      "source": [
        "Iced_tea['Product id'].value_counts()"
      ],
      "metadata": {
        "colab": {
          "base_uri": "https://localhost:8080/"
        },
        "id": "GcyvxVXqf2iW",
        "outputId": "f462c606-0d6a-4a5b-907c-5197c2a031a3"
      },
      "execution_count": 21,
      "outputs": [
        {
          "output_type": "execute_result",
          "data": {
            "text/plain": [
              "74373     1\n",
              "85451     1\n",
              "93615     1\n",
              "103864    1\n",
              "85435     1\n",
              "         ..\n",
              "90921     1\n",
              "108116    1\n",
              "106955    1\n",
              "99117     1\n",
              "89635     1\n",
              "Name: Product id, Length: 6503, dtype: int64"
            ]
          },
          "metadata": {},
          "execution_count": 21
        }
      ]
    },
    {
      "cell_type": "code",
      "source": [
        "Iced_tea.groupby('Market Subcategory')['Flavor'].value_counts()"
      ],
      "metadata": {
        "colab": {
          "base_uri": "https://localhost:8080/"
        },
        "id": "A-L1KBoSPmu3",
        "outputId": "4c03385e-b116-4f1a-97b7-cdc9e8839ef5"
      },
      "execution_count": 22,
      "outputs": [
        {
          "output_type": "execute_result",
          "data": {
            "text/plain": [
              "Market Subcategory  Flavor                                                 \n",
              "Iced Tea            Tea, Green                                                 272\n",
              "                    Tea, Not specified; Lemon                                  205\n",
              "                    Tea, not specified; Lemon                                  187\n",
              "                    Tea, green                                                 161\n",
              "                    Tea, not specified; Peach                                  156\n",
              "                                                                              ... \n",
              "                    Vanilla, Not specified; Tea, Assam; Milk, Not specified      1\n",
              "                    Vanilla, Not specified; Tea, Chai                            1\n",
              "                    Vanilla, Not specified; Tea, Not specified                   1\n",
              "                    Watermelon                                                   1\n",
              "                    Wheat, Not specified; Tea, Not specified                     1\n",
              "Name: Flavor, Length: 2113, dtype: int64"
            ]
          },
          "metadata": {},
          "execution_count": 22
        }
      ]
    },
    {
      "cell_type": "code",
      "source": [
        "# Top 20 Iced Tea flavored products.\n",
        "Iced_tea.groupby('Market Subcategory')['Flavor'].value_counts().nlargest(20)"
      ],
      "metadata": {
        "colab": {
          "base_uri": "https://localhost:8080/"
        },
        "id": "x_IpevjaPmxe",
        "outputId": "f30ffb77-4d0b-49e3-9c40-d7c1657e8c1a"
      },
      "execution_count": 23,
      "outputs": [
        {
          "output_type": "execute_result",
          "data": {
            "text/plain": [
              "Market Subcategory  Flavor                   \n",
              "Iced Tea            Tea, Green                   272\n",
              "                    Tea, Not specified; Lemon    205\n",
              "                    Tea, not specified; Lemon    187\n",
              "                    Tea, green                   161\n",
              "                    Tea, not specified; Peach    156\n",
              "                    Tea, Not specified           154\n",
              "                    Tea, Not specified; Peach    149\n",
              "                    Tea, Black; Lemon            106\n",
              "                    Tea, Green; Lemon             95\n",
              "                    Tea, not specified            85\n",
              "                    Tea, Black                    80\n",
              "                    Tea, Black; Peach             76\n",
              "                    Tea, green; Lemon             66\n",
              "                    Tea, Not Specified            64\n",
              "                    Tea, Not Specified; Lemon     59\n",
              "                    Tea, oolong                   58\n",
              "                    Tea, Herbal                   57\n",
              "                    Tea, Oolong                   56\n",
              "                    Tea, Jasmine                  54\n",
              "                    Tea, black; Lemon             52\n",
              "Name: Flavor, dtype: int64"
            ]
          },
          "metadata": {},
          "execution_count": 23
        }
      ]
    },
    {
      "cell_type": "code",
      "source": [
        "# Plotting Top 20 Iced Tea flavored products.\n",
        "Iced_tea.groupby('Market Subcategory')['Flavor'].value_counts().nlargest(20).plot.bar()\n",
        "plt.ylabel('Count')"
      ],
      "metadata": {
        "colab": {
          "base_uri": "https://localhost:8080/",
          "height": 470
        },
        "id": "cdkLBvSzf2k9",
        "outputId": "0a276d47-3c45-46b5-a0d1-c9bd7f7efea7"
      },
      "execution_count": 24,
      "outputs": [
        {
          "output_type": "execute_result",
          "data": {
            "text/plain": [
              "Text(0, 0.5, 'Count')"
            ]
          },
          "metadata": {},
          "execution_count": 24
        },
        {
          "output_type": "display_data",
          "data": {
            "image/png": "[encoded data removed]",
            "text/plain": [
              "<Figure size 432x288 with 1 Axes>"
            ]
          },
          "metadata": {
            "needs_background": "light"
          }
        }
      ]
    },
    {
      "cell_type": "code",
      "source": [
        "# Least 20 products under Iced Tea category.\n",
        "Iced_tea.groupby('Market Subcategory')['Flavor'].value_counts().nsmallest(20)\n"
      ],
      "metadata": {
        "colab": {
          "base_uri": "https://localhost:8080/"
        },
        "id": "CNAEDyDSXkij",
        "outputId": "27681977-d71d-4fec-dba4-0b88d274f16f"
      },
      "execution_count": 25,
      "outputs": [
        {
          "output_type": "execute_result",
          "data": {
            "text/plain": [
              "Market Subcategory  Flavor                                             \n",
              "Iced Tea            Aloe Vera                                              1\n",
              "                    Aloe Vera; Tea, green                                  1\n",
              "                    Apple, Green; Apple, Red; Apple, Golden                1\n",
              "                    Apple, Green; Tea, Black                               1\n",
              "                    Apple, Green; Tea, Green                               1\n",
              "                    Apple, Green; Tea, Not specified                       1\n",
              "                    Apple, Red; Apricot                                    1\n",
              "                    Apple, Red; Citrus, Not specified; Tea, Green          1\n",
              "                    Apple, Red; Honey                                      1\n",
              "                    Apple, Red; Milk, Not Specified                        1\n",
              "                    Apple, Red; Mint, Not Specified; Ginger                1\n",
              "                    Apple, Red; Mint, Not specified; Tea, Not specified    1\n",
              "                    Apple, Red; Peach                                      1\n",
              "                    Apple, Red; Pear; Burdock                              1\n",
              "                    Apple, Red; Pear; Tea, Green                           1\n",
              "                    Apple, Red; Tea, Chamomile                             1\n",
              "                    Apple, Red; Tea, Matcha; Tea, Green                    1\n",
              "                    Apple, green; Cinnamon; Ginseng, not specified         1\n",
              "                    Apple, red; Cinnamon                                   1\n",
              "                    Apricot                                                1\n",
              "Name: Flavor, dtype: int64"
            ]
          },
          "metadata": {},
          "execution_count": 25
        }
      ]
    },
    {
      "cell_type": "code",
      "source": [
        "# Plotting Least 20 products under Iced Tea category.\n",
        "Iced_tea.groupby('Market Subcategory')['Flavor'].value_counts().nsmallest(20).plot.bar()\n",
        "plt.ylabel('Count')"
      ],
      "metadata": {
        "colab": {
          "base_uri": "https://localhost:8080/",
          "height": 589
        },
        "id": "g9LdVhu_XklL",
        "outputId": "089e0d26-83bb-46c8-e645-f18049e3a8a5"
      },
      "execution_count": 26,
      "outputs": [
        {
          "output_type": "execute_result",
          "data": {
            "text/plain": [
              "Text(0, 0.5, 'Count')"
            ]
          },
          "metadata": {},
          "execution_count": 26
        },
        {
          "output_type": "display_data",
          "data": {
            "image/png": "[encoded data removed]",
            "text/plain": [
              "<Figure size 432x288 with 1 Axes>"
            ]
          },
          "metadata": {
            "needs_background": "light"
          }
        }
      ]
    },
    {
      "cell_type": "code",
      "source": [
        ""
      ],
      "metadata": {
        "id": "izB0EcgaXkn4"
      },
      "execution_count": 26,
      "outputs": []
    },
    {
      "cell_type": "code",
      "source": [
        ""
      ],
      "metadata": {
        "id": "0LFEiVAfXkqb"
      },
      "execution_count": 26,
      "outputs": []
    }
  ]
}